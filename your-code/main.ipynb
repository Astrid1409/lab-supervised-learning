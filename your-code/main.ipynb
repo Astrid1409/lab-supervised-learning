{
 "cells": [
  {
   "cell_type": "markdown",
   "metadata": {},
   "source": [
    "# Before your start:\n",
    "- Read the README.md file\n",
    "- Comment as much as you can and use the resources in the README.md file\n",
    "- Happy learning!"
   ]
  },
  {
   "cell_type": "code",
   "execution_count": 2,
   "metadata": {},
   "outputs": [],
   "source": [
    "# Import your libraries:\n",
    "# 📚 Basic Libraries\n",
    "import numpy as np # operaciones matemáticas (numerical python)\n",
    "import pandas as pd # manipulación de datos\n",
    "import warnings # nobody likes warnings\n",
    "\n",
    "# 📊 Visualizations\n",
    "import matplotlib.pyplot as plt\n",
    "import seaborn as sns\n",
    "\n",
    "# 🤖 Machine Learning\n",
    "from sklearn.svm import LinearSVC\n",
    "from sklearn.tree import DecisionTreeClassifier\n",
    "import plotly.graph_objs as go\n",
    "from sklearn.neighbors import KNeighborsClassifier\n",
    "from sklearn.model_selection import train_test_split\n",
    "from sklearn.linear_model import LogisticRegression #esta es nueva\n",
    "from sklearn.metrics import roc_curve, confusion_matrix, ConfusionMatrixDisplay #esta es nueva, me da el mapita de calor de roc curve\n",
    "from sklearn.metrics import classification_report #esta es nueva, esta me va a decir todo el reporte\n",
    "\n",
    "%matplotlib inline\n",
    "\n"
   ]
  },
  {
   "cell_type": "code",
   "execution_count": 3,
   "metadata": {},
   "outputs": [],
   "source": [
    "# ⚙️ Settings\n",
    "pd.set_option('display.max_columns', None) # display all columns\n",
    "warnings.filterwarnings('ignore') # ignore warnings"
   ]
  },
  {
   "cell_type": "code",
   "execution_count": 4,
   "metadata": {},
   "outputs": [],
   "source": [
    "# 🔧 Basic functions\n",
    "def snake_columns(data): \n",
    "    \"\"\"\n",
    "    returns the columns in snake case\n",
    "    \"\"\"\n",
    "    data.columns = [column.lower().replace(' ', '_') for column in data.columns]\n",
    "    \n",
    "def open_data(data): # returns shape, data types & shows a small sample\n",
    "    print(f\"Data shape is {data.shape}.\")\n",
    "    print()\n",
    "    print(data.dtypes)\n",
    "    print()\n",
    "    print(\"Data row sample and full columns:\")\n",
    "    return data.sample(5)\n",
    "\n",
    "# 🎯 Specific functions\n",
    "def explore_data(data): # sum & returns duplicates, NaN & empty spaces\n",
    "    duplicate_rows = data.duplicated().sum()\n",
    "    nan_values = data.isna().sum()\n",
    "    empty_spaces = data.eq(' ').sum()\n",
    "    import pandas as pd\n",
    "    exploration = pd.DataFrame({\"NaN\": nan_values, \"EmptySpaces\": empty_spaces}) # New dataframe with the results\n",
    "    print(f\"There are {data.duplicated().sum()} duplicate rows. Also;\")\n",
    "    return exploration\n",
    "\n",
    "#el threshold es el que le pongo como parametro apra que quite los outliers de 1.5 o menos podemos hacerlo con menos mejor, pero si no ponemos nada\n",
    "#pondra por defecto 1.5.\n",
    "def outlier_slayer(data, threshold = 1.5): # automatically removes outliers based on Q1, Q3 #CUIDADO MEJOR VER EN BOX PLOTS Y VER QUE QUITAMOS#\n",
    "    for column in data.select_dtypes(include=[np.number]):\n",
    "        Q1 = data[column].quantile(0.25)\n",
    "        Q3 = data[column].quantile(0.75)\n",
    "        IQR = Q3 - Q1\n",
    "        lower_bound = Q1 - threshold * IQR\n",
    "        upper_bound = Q3 + threshold * IQR\n",
    "        data = data[(data[column] >= lower_bound) & (data[column] <= upper_bound)]\n",
    "    return data"
   ]
  },
  {
   "cell_type": "markdown",
   "metadata": {},
   "source": [
    "In this lab, we will explore a dataset that describes websites with different features and labels them either benign or malicious . We will use supervised learning algorithms to figure out what feature patterns malicious websites are likely to have and use our model to predict malicious websites.\n",
    "\n",
    "# Challenge 1 - Explore The Dataset\n",
    "\n",
    "Let's start by exploring the dataset. First load the data file:"
   ]
  },
  {
   "cell_type": "code",
   "execution_count": 6,
   "metadata": {},
   "outputs": [],
   "source": [
    "websites = pd.read_csv('../data/website.csv')"
   ]
  },
  {
   "cell_type": "markdown",
   "metadata": {},
   "source": [
    "#### Explore the data from an bird's-eye view.\n",
    "\n",
    "You should already been very familiar with the procedures now so we won't provide the instructions step by step. Reflect on what you did in the previous labs and explore the dataset.\n",
    "\n",
    "Things you'll be looking for:\n",
    "\n",
    "* What the dataset looks like?\n",
    "* What are the data types?\n",
    "* Which columns contain the features of the websites?\n",
    "* Which column contains the feature we will predict? What is the code standing for benign vs malicious websites?\n",
    "* Do we need to transform any of the columns from categorical to ordinal values? If so what are these columns?\n",
    "\n",
    "Feel free to add additional cells for your explorations. Make sure to comment what you find out."
   ]
  },
  {
   "cell_type": "code",
   "execution_count": 8,
   "metadata": {},
   "outputs": [
    {
     "data": {
      "text/html": [
       "<div>\n",
       "<style scoped>\n",
       "    .dataframe tbody tr th:only-of-type {\n",
       "        vertical-align: middle;\n",
       "    }\n",
       "\n",
       "    .dataframe tbody tr th {\n",
       "        vertical-align: top;\n",
       "    }\n",
       "\n",
       "    .dataframe thead th {\n",
       "        text-align: right;\n",
       "    }\n",
       "</style>\n",
       "<table border=\"1\" class=\"dataframe\">\n",
       "  <thead>\n",
       "    <tr style=\"text-align: right;\">\n",
       "      <th></th>\n",
       "      <th>URL</th>\n",
       "      <th>URL_LENGTH</th>\n",
       "      <th>NUMBER_SPECIAL_CHARACTERS</th>\n",
       "      <th>CHARSET</th>\n",
       "      <th>SERVER</th>\n",
       "      <th>CONTENT_LENGTH</th>\n",
       "      <th>WHOIS_COUNTRY</th>\n",
       "      <th>WHOIS_STATEPRO</th>\n",
       "      <th>WHOIS_REGDATE</th>\n",
       "      <th>WHOIS_UPDATED_DATE</th>\n",
       "      <th>TCP_CONVERSATION_EXCHANGE</th>\n",
       "      <th>DIST_REMOTE_TCP_PORT</th>\n",
       "      <th>REMOTE_IPS</th>\n",
       "      <th>APP_BYTES</th>\n",
       "      <th>SOURCE_APP_PACKETS</th>\n",
       "      <th>REMOTE_APP_PACKETS</th>\n",
       "      <th>SOURCE_APP_BYTES</th>\n",
       "      <th>REMOTE_APP_BYTES</th>\n",
       "      <th>APP_PACKETS</th>\n",
       "      <th>DNS_QUERY_TIMES</th>\n",
       "      <th>Type</th>\n",
       "    </tr>\n",
       "  </thead>\n",
       "  <tbody>\n",
       "    <tr>\n",
       "      <th>0</th>\n",
       "      <td>M0_109</td>\n",
       "      <td>16</td>\n",
       "      <td>7</td>\n",
       "      <td>iso-8859-1</td>\n",
       "      <td>nginx</td>\n",
       "      <td>263.0</td>\n",
       "      <td>NaN</td>\n",
       "      <td>NaN</td>\n",
       "      <td>10/10/2015 18:21</td>\n",
       "      <td>NaN</td>\n",
       "      <td>7</td>\n",
       "      <td>0</td>\n",
       "      <td>2</td>\n",
       "      <td>700</td>\n",
       "      <td>9</td>\n",
       "      <td>10</td>\n",
       "      <td>1153</td>\n",
       "      <td>832</td>\n",
       "      <td>9</td>\n",
       "      <td>2.0</td>\n",
       "      <td>1</td>\n",
       "    </tr>\n",
       "    <tr>\n",
       "      <th>1</th>\n",
       "      <td>B0_2314</td>\n",
       "      <td>16</td>\n",
       "      <td>6</td>\n",
       "      <td>UTF-8</td>\n",
       "      <td>Apache/2.4.10</td>\n",
       "      <td>15087.0</td>\n",
       "      <td>NaN</td>\n",
       "      <td>NaN</td>\n",
       "      <td>NaN</td>\n",
       "      <td>NaN</td>\n",
       "      <td>17</td>\n",
       "      <td>7</td>\n",
       "      <td>4</td>\n",
       "      <td>1230</td>\n",
       "      <td>17</td>\n",
       "      <td>19</td>\n",
       "      <td>1265</td>\n",
       "      <td>1230</td>\n",
       "      <td>17</td>\n",
       "      <td>0.0</td>\n",
       "      <td>0</td>\n",
       "    </tr>\n",
       "    <tr>\n",
       "      <th>2</th>\n",
       "      <td>B0_911</td>\n",
       "      <td>16</td>\n",
       "      <td>6</td>\n",
       "      <td>us-ascii</td>\n",
       "      <td>Microsoft-HTTPAPI/2.0</td>\n",
       "      <td>324.0</td>\n",
       "      <td>NaN</td>\n",
       "      <td>NaN</td>\n",
       "      <td>NaN</td>\n",
       "      <td>NaN</td>\n",
       "      <td>0</td>\n",
       "      <td>0</td>\n",
       "      <td>0</td>\n",
       "      <td>0</td>\n",
       "      <td>0</td>\n",
       "      <td>0</td>\n",
       "      <td>0</td>\n",
       "      <td>0</td>\n",
       "      <td>0</td>\n",
       "      <td>0.0</td>\n",
       "      <td>0</td>\n",
       "    </tr>\n",
       "    <tr>\n",
       "      <th>3</th>\n",
       "      <td>B0_113</td>\n",
       "      <td>17</td>\n",
       "      <td>6</td>\n",
       "      <td>ISO-8859-1</td>\n",
       "      <td>nginx</td>\n",
       "      <td>162.0</td>\n",
       "      <td>US</td>\n",
       "      <td>AK</td>\n",
       "      <td>7/10/1997 4:00</td>\n",
       "      <td>12/09/2013 0:45</td>\n",
       "      <td>31</td>\n",
       "      <td>22</td>\n",
       "      <td>3</td>\n",
       "      <td>3812</td>\n",
       "      <td>39</td>\n",
       "      <td>37</td>\n",
       "      <td>18784</td>\n",
       "      <td>4380</td>\n",
       "      <td>39</td>\n",
       "      <td>8.0</td>\n",
       "      <td>0</td>\n",
       "    </tr>\n",
       "    <tr>\n",
       "      <th>4</th>\n",
       "      <td>B0_403</td>\n",
       "      <td>17</td>\n",
       "      <td>6</td>\n",
       "      <td>UTF-8</td>\n",
       "      <td>NaN</td>\n",
       "      <td>124140.0</td>\n",
       "      <td>US</td>\n",
       "      <td>TX</td>\n",
       "      <td>12/05/1996 0:00</td>\n",
       "      <td>11/04/2017 0:00</td>\n",
       "      <td>57</td>\n",
       "      <td>2</td>\n",
       "      <td>5</td>\n",
       "      <td>4278</td>\n",
       "      <td>61</td>\n",
       "      <td>62</td>\n",
       "      <td>129889</td>\n",
       "      <td>4586</td>\n",
       "      <td>61</td>\n",
       "      <td>4.0</td>\n",
       "      <td>0</td>\n",
       "    </tr>\n",
       "  </tbody>\n",
       "</table>\n",
       "</div>"
      ],
      "text/plain": [
       "       URL  URL_LENGTH  NUMBER_SPECIAL_CHARACTERS     CHARSET  \\\n",
       "0   M0_109          16                          7  iso-8859-1   \n",
       "1  B0_2314          16                          6       UTF-8   \n",
       "2   B0_911          16                          6    us-ascii   \n",
       "3   B0_113          17                          6  ISO-8859-1   \n",
       "4   B0_403          17                          6       UTF-8   \n",
       "\n",
       "                  SERVER  CONTENT_LENGTH WHOIS_COUNTRY WHOIS_STATEPRO  \\\n",
       "0                  nginx           263.0           NaN            NaN   \n",
       "1          Apache/2.4.10         15087.0           NaN            NaN   \n",
       "2  Microsoft-HTTPAPI/2.0           324.0           NaN            NaN   \n",
       "3                  nginx           162.0            US             AK   \n",
       "4                    NaN        124140.0            US             TX   \n",
       "\n",
       "      WHOIS_REGDATE WHOIS_UPDATED_DATE  TCP_CONVERSATION_EXCHANGE  \\\n",
       "0  10/10/2015 18:21                NaN                          7   \n",
       "1               NaN                NaN                         17   \n",
       "2               NaN                NaN                          0   \n",
       "3    7/10/1997 4:00    12/09/2013 0:45                         31   \n",
       "4   12/05/1996 0:00    11/04/2017 0:00                         57   \n",
       "\n",
       "   DIST_REMOTE_TCP_PORT  REMOTE_IPS  APP_BYTES  SOURCE_APP_PACKETS  \\\n",
       "0                     0           2        700                   9   \n",
       "1                     7           4       1230                  17   \n",
       "2                     0           0          0                   0   \n",
       "3                    22           3       3812                  39   \n",
       "4                     2           5       4278                  61   \n",
       "\n",
       "   REMOTE_APP_PACKETS  SOURCE_APP_BYTES  REMOTE_APP_BYTES  APP_PACKETS  \\\n",
       "0                  10              1153               832            9   \n",
       "1                  19              1265              1230           17   \n",
       "2                   0                 0                 0            0   \n",
       "3                  37             18784              4380           39   \n",
       "4                  62            129889              4586           61   \n",
       "\n",
       "   DNS_QUERY_TIMES  Type  \n",
       "0              2.0     1  \n",
       "1              0.0     0  \n",
       "2              0.0     0  \n",
       "3              8.0     0  \n",
       "4              4.0     0  "
      ]
     },
     "execution_count": 8,
     "metadata": {},
     "output_type": "execute_result"
    }
   ],
   "source": [
    "# Your code here: What the dataset looks like?\n",
    "websites.head()\n",
    "\n"
   ]
  },
  {
   "cell_type": "code",
   "execution_count": 9,
   "metadata": {},
   "outputs": [
    {
     "data": {
      "text/plain": [
       "URL                           object\n",
       "URL_LENGTH                     int64\n",
       "NUMBER_SPECIAL_CHARACTERS      int64\n",
       "CHARSET                       object\n",
       "SERVER                        object\n",
       "CONTENT_LENGTH               float64\n",
       "WHOIS_COUNTRY                 object\n",
       "WHOIS_STATEPRO                object\n",
       "WHOIS_REGDATE                 object\n",
       "WHOIS_UPDATED_DATE            object\n",
       "TCP_CONVERSATION_EXCHANGE      int64\n",
       "DIST_REMOTE_TCP_PORT           int64\n",
       "REMOTE_IPS                     int64\n",
       "APP_BYTES                      int64\n",
       "SOURCE_APP_PACKETS             int64\n",
       "REMOTE_APP_PACKETS             int64\n",
       "SOURCE_APP_BYTES               int64\n",
       "REMOTE_APP_BYTES               int64\n",
       "APP_PACKETS                    int64\n",
       "DNS_QUERY_TIMES              float64\n",
       "Type                           int64\n",
       "dtype: object"
      ]
     },
     "execution_count": 9,
     "metadata": {},
     "output_type": "execute_result"
    }
   ],
   "source": [
    "# Your code here:  What are the data types?\n",
    "websites.dtypes"
   ]
  },
  {
   "cell_type": "code",
   "execution_count": 10,
   "metadata": {},
   "outputs": [
    {
     "data": {
      "text/plain": [
       "Index(['URL', 'URL_LENGTH', 'NUMBER_SPECIAL_CHARACTERS', 'CHARSET', 'SERVER',\n",
       "       'CONTENT_LENGTH', 'WHOIS_COUNTRY', 'WHOIS_STATEPRO', 'WHOIS_REGDATE',\n",
       "       'WHOIS_UPDATED_DATE', 'TCP_CONVERSATION_EXCHANGE',\n",
       "       'DIST_REMOTE_TCP_PORT', 'REMOTE_IPS', 'APP_BYTES', 'SOURCE_APP_PACKETS',\n",
       "       'REMOTE_APP_PACKETS', 'SOURCE_APP_BYTES', 'REMOTE_APP_BYTES',\n",
       "       'APP_PACKETS', 'DNS_QUERY_TIMES', 'Type'],\n",
       "      dtype='object')"
      ]
     },
     "execution_count": 10,
     "metadata": {},
     "output_type": "execute_result"
    }
   ],
   "source": [
    "# Your code here: columns\n",
    "websites.columns"
   ]
  },
  {
   "cell_type": "code",
   "execution_count": 11,
   "metadata": {},
   "outputs": [],
   "source": [
    "# Your code here: Which columns contain the features of the websites?\n",
    "#URL', 'URL_LENGTH', 'NUMBER_SPECIAL_CHARACTERS', 'CHARSET', 'SERVER',\n",
    "        #'CONTENT_LENGTH', 'WHOIS_COUNTRY', 'WHOIS_STATEPRO', 'WHOIS_REGDATE',\n",
    "       #'WHOIS_UPDATED_DATE', 'TCP_CONVERSATION_EXCHANGE',\n",
    "       #'DIST_REMOTE_TCP_PORT', 'REMOTE_IPS', 'APP_BYTES', 'SOURCE_APP_PACKETS',\n",
    "       #'REMOTE_APP_PACKETS', 'SOURCE_APP_BYTES', 'REMOTE_APP_BYTES',\n",
    "       #'APP_PACKETS', 'DNS_QUERY_TIMES'"
   ]
  },
  {
   "cell_type": "code",
   "execution_count": 12,
   "metadata": {},
   "outputs": [
    {
     "data": {
      "text/plain": [
       "Type\n",
       "0    1565\n",
       "1     216\n",
       "Name: count, dtype: int64"
      ]
     },
     "execution_count": 12,
     "metadata": {},
     "output_type": "execute_result"
    }
   ],
   "source": [
    "websites.Type.value_counts()"
   ]
  },
  {
   "cell_type": "code",
   "execution_count": 13,
   "metadata": {},
   "outputs": [],
   "source": [
    "#Which column contains the feature we will predict? \n",
    "#The target is Type. \n",
    "\n",
    "#What is the code standing for benign vs malicious websites?\n",
    "#De acuerdo con el value counts consideramos que el 0 es para paginas benignas y el 1 es para paginas malignas."
   ]
  },
  {
   "cell_type": "code",
   "execution_count": 14,
   "metadata": {},
   "outputs": [],
   "source": [
    "#Do we need to transform any of the columns from categorical to ordinal values? \n",
    "#No, \n",
    "\n",
    "#If so what are these columns?\n"
   ]
  },
  {
   "cell_type": "code",
   "execution_count": 15,
   "metadata": {},
   "outputs": [
    {
     "data": {
      "text/plain": [
       "1781"
      ]
     },
     "execution_count": 15,
     "metadata": {},
     "output_type": "execute_result"
    }
   ],
   "source": [
    "len(websites)"
   ]
  },
  {
   "cell_type": "code",
   "execution_count": 16,
   "metadata": {},
   "outputs": [
    {
     "data": {
      "text/plain": [
       "URL                          1781\n",
       "URL_LENGTH                    142\n",
       "NUMBER_SPECIAL_CHARACTERS      31\n",
       "CHARSET                         8\n",
       "SERVER                        238\n",
       "CONTENT_LENGTH                637\n",
       "WHOIS_COUNTRY                  48\n",
       "WHOIS_STATEPRO                181\n",
       "WHOIS_REGDATE                 890\n",
       "WHOIS_UPDATED_DATE            593\n",
       "TCP_CONVERSATION_EXCHANGE     103\n",
       "DIST_REMOTE_TCP_PORT           66\n",
       "REMOTE_IPS                     18\n",
       "APP_BYTES                     825\n",
       "SOURCE_APP_PACKETS            113\n",
       "REMOTE_APP_PACKETS            116\n",
       "SOURCE_APP_BYTES              885\n",
       "REMOTE_APP_BYTES              822\n",
       "APP_PACKETS                   113\n",
       "DNS_QUERY_TIMES                10\n",
       "Type                            2\n",
       "dtype: int64"
      ]
     },
     "execution_count": 16,
     "metadata": {},
     "output_type": "execute_result"
    }
   ],
   "source": [
    "websites.nunique()"
   ]
  },
  {
   "cell_type": "code",
   "execution_count": 17,
   "metadata": {},
   "outputs": [
    {
     "data": {
      "text/plain": [
       "array(['iso-8859-1', 'UTF-8', 'us-ascii', 'ISO-8859-1', 'utf-8', nan,\n",
       "       'windows-1251', 'ISO-8859', 'windows-1252'], dtype=object)"
      ]
     },
     "execution_count": 17,
     "metadata": {},
     "output_type": "execute_result"
    }
   ],
   "source": [
    "websites.CHARSET.unique()"
   ]
  },
  {
   "cell_type": "markdown",
   "metadata": {},
   "source": [
    "<h2 style=\"color: #FF6347;\">Copy as best practices</h2>"
   ]
  },
  {
   "cell_type": "code",
   "execution_count": 19,
   "metadata": {},
   "outputs": [],
   "source": [
    "df = websites.copy()"
   ]
  },
  {
   "cell_type": "markdown",
   "metadata": {},
   "source": [
    "#### Next, evaluate if the columns in this dataset are strongly correlated.\n",
    "\n",
    "If our dataset has strongly correlated columns, we need to choose certain ML algorithms instead of others. We need to evaluate this for our dataset now.\n",
    "\n",
    "Luckily, most of the columns in this dataset are ordinal which makes things a lot easier for us. In the next cells below, evaluate the level of collinearity of the data.\n",
    "\n",
    "We provide some general directions for you to consult in order to complete this step:\n",
    "\n",
    "1. You will create a correlation matrix using the numeric columns in the dataset.\n",
    "\n",
    "1. Create a heatmap using `seaborn` to visualize which columns have high collinearity.\n",
    "\n",
    "1. Comment on which columns you might need to remove due to high collinearity."
   ]
  },
  {
   "cell_type": "code",
   "execution_count": 21,
   "metadata": {},
   "outputs": [],
   "source": [
    "# Your comment here\n",
    "cat = df.select_dtypes(exclude=\"number\")\n",
    "num = df.select_dtypes(include=\"number\")"
   ]
  },
  {
   "cell_type": "code",
   "execution_count": 22,
   "metadata": {},
   "outputs": [
    {
     "data": {
      "image/png": "[encoded data removed]",
      "text/plain": [
       "<Figure size 2500x1500 with 2 Axes>"
      ]
     },
     "metadata": {},
     "output_type": "display_data"
    }
   ],
   "source": [
    "#You will create a correlation matrix using the numeric columns in the dataset. \n",
    "#Create a heatmap using seaborn to visualize which columns have high collinearity.\n",
    "num_corr = round(num.corr(), 2)\n",
    "\n",
    "mask = np.zeros_like(num_corr)\n",
    "mask[np.triu_indices_from(mask)] = True # optional, to hide repeat half of the matrix\n",
    "\n",
    "f, ax = plt.subplots(figsize=(25, 15))\n",
    "sns.set(font_scale=1.5) # increase font size\n",
    "\n",
    "ax = sns.heatmap(num_corr, mask=mask, annot=True, annot_kws={\"size\": 12}, linewidths=.5, cmap=\"coolwarm\", fmt=\".2f\", ax=ax) # round to 2 decimal places\n",
    "ax.set_title(\"Dealing with Multicollinearity\", fontsize=20) # add title\n",
    "plt.show()"
   ]
  },
  {
   "cell_type": "code",
   "execution_count": 23,
   "metadata": {},
   "outputs": [],
   "source": [
    "#Comment on which columns you might need to remove due to high collinearity.\n",
    "#We need to erase the colums: SOURCE_APP_PACKETS, REMOTE_APP_PACKETS, APP_PACKETS, REMOTE_APP_BYTES, SOURCE_APP_PACKETS\n",
    "\n"
   ]
  },
  {
   "cell_type": "markdown",
   "metadata": {},
   "source": [
    "# Challenge 2 - Remove Column Collinearity.\n",
    "\n",
    "From the heatmap you created, you should have seen at least 3 columns that can be removed due to high collinearity. Remove these columns from the dataset.\n",
    "\n",
    "Note that you should remove as few columns as you can. You don't have to remove all the columns at once. But instead, try removing one column, then produce the heatmap again to determine if additional columns should be removed. As long as the dataset no longer contains columns that are correlated for over 90%, you can stop. Also, keep in mind when two columns have high collinearity, you only need to remove one of them but not both.\n",
    "\n",
    "In the cells below, remove as few columns as you can to eliminate the high collinearity in the dataset. Make sure to comment on your way so that the instructional team can learn about your thinking process which allows them to give feedback. At the end, print the heatmap again."
   ]
  },
  {
   "cell_type": "code",
   "execution_count": 25,
   "metadata": {},
   "outputs": [],
   "source": [
    "# Your code here\n",
    "df_clean = num.drop(columns = [\"SOURCE_APP_PACKETS\", \"TCP_CONVERSATION_EXCHANGE\",\"REMOTE_APP_PACKETS\",\"APP_BYTES\"])"
   ]
  },
  {
   "cell_type": "code",
   "execution_count": 26,
   "metadata": {},
   "outputs": [
    {
     "data": {
      "text/html": [
       "<div>\n",
       "<style scoped>\n",
       "    .dataframe tbody tr th:only-of-type {\n",
       "        vertical-align: middle;\n",
       "    }\n",
       "\n",
       "    .dataframe tbody tr th {\n",
       "        vertical-align: top;\n",
       "    }\n",
       "\n",
       "    .dataframe thead th {\n",
       "        text-align: right;\n",
       "    }\n",
       "</style>\n",
       "<table border=\"1\" class=\"dataframe\">\n",
       "  <thead>\n",
       "    <tr style=\"text-align: right;\">\n",
       "      <th></th>\n",
       "      <th>URL_LENGTH</th>\n",
       "      <th>NUMBER_SPECIAL_CHARACTERS</th>\n",
       "      <th>CONTENT_LENGTH</th>\n",
       "      <th>DIST_REMOTE_TCP_PORT</th>\n",
       "      <th>REMOTE_IPS</th>\n",
       "      <th>SOURCE_APP_BYTES</th>\n",
       "      <th>REMOTE_APP_BYTES</th>\n",
       "      <th>APP_PACKETS</th>\n",
       "      <th>DNS_QUERY_TIMES</th>\n",
       "      <th>Type</th>\n",
       "    </tr>\n",
       "  </thead>\n",
       "  <tbody>\n",
       "    <tr>\n",
       "      <th>0</th>\n",
       "      <td>16</td>\n",
       "      <td>7</td>\n",
       "      <td>263.0</td>\n",
       "      <td>0</td>\n",
       "      <td>2</td>\n",
       "      <td>1153</td>\n",
       "      <td>832</td>\n",
       "      <td>9</td>\n",
       "      <td>2.0</td>\n",
       "      <td>1</td>\n",
       "    </tr>\n",
       "    <tr>\n",
       "      <th>1</th>\n",
       "      <td>16</td>\n",
       "      <td>6</td>\n",
       "      <td>15087.0</td>\n",
       "      <td>7</td>\n",
       "      <td>4</td>\n",
       "      <td>1265</td>\n",
       "      <td>1230</td>\n",
       "      <td>17</td>\n",
       "      <td>0.0</td>\n",
       "      <td>0</td>\n",
       "    </tr>\n",
       "    <tr>\n",
       "      <th>2</th>\n",
       "      <td>16</td>\n",
       "      <td>6</td>\n",
       "      <td>324.0</td>\n",
       "      <td>0</td>\n",
       "      <td>0</td>\n",
       "      <td>0</td>\n",
       "      <td>0</td>\n",
       "      <td>0</td>\n",
       "      <td>0.0</td>\n",
       "      <td>0</td>\n",
       "    </tr>\n",
       "    <tr>\n",
       "      <th>3</th>\n",
       "      <td>17</td>\n",
       "      <td>6</td>\n",
       "      <td>162.0</td>\n",
       "      <td>22</td>\n",
       "      <td>3</td>\n",
       "      <td>18784</td>\n",
       "      <td>4380</td>\n",
       "      <td>39</td>\n",
       "      <td>8.0</td>\n",
       "      <td>0</td>\n",
       "    </tr>\n",
       "    <tr>\n",
       "      <th>4</th>\n",
       "      <td>17</td>\n",
       "      <td>6</td>\n",
       "      <td>124140.0</td>\n",
       "      <td>2</td>\n",
       "      <td>5</td>\n",
       "      <td>129889</td>\n",
       "      <td>4586</td>\n",
       "      <td>61</td>\n",
       "      <td>4.0</td>\n",
       "      <td>0</td>\n",
       "    </tr>\n",
       "  </tbody>\n",
       "</table>\n",
       "</div>"
      ],
      "text/plain": [
       "   URL_LENGTH  NUMBER_SPECIAL_CHARACTERS  CONTENT_LENGTH  \\\n",
       "0          16                          7           263.0   \n",
       "1          16                          6         15087.0   \n",
       "2          16                          6           324.0   \n",
       "3          17                          6           162.0   \n",
       "4          17                          6        124140.0   \n",
       "\n",
       "   DIST_REMOTE_TCP_PORT  REMOTE_IPS  SOURCE_APP_BYTES  REMOTE_APP_BYTES  \\\n",
       "0                     0           2              1153               832   \n",
       "1                     7           4              1265              1230   \n",
       "2                     0           0                 0                 0   \n",
       "3                    22           3             18784              4380   \n",
       "4                     2           5            129889              4586   \n",
       "\n",
       "   APP_PACKETS  DNS_QUERY_TIMES  Type  \n",
       "0            9              2.0     1  \n",
       "1           17              0.0     0  \n",
       "2            0              0.0     0  \n",
       "3           39              8.0     0  \n",
       "4           61              4.0     0  "
      ]
     },
     "execution_count": 26,
     "metadata": {},
     "output_type": "execute_result"
    }
   ],
   "source": [
    "# Your comment here\n",
    "df_clean.head()"
   ]
  },
  {
   "cell_type": "code",
   "execution_count": 27,
   "metadata": {},
   "outputs": [
    {
     "data": {
      "text/plain": [
       "1781"
      ]
     },
     "execution_count": 27,
     "metadata": {},
     "output_type": "execute_result"
    }
   ],
   "source": [
    "len(num)"
   ]
  },
  {
   "cell_type": "code",
   "execution_count": 28,
   "metadata": {},
   "outputs": [
    {
     "data": {
      "text/plain": [
       "1781"
      ]
     },
     "execution_count": 28,
     "metadata": {},
     "output_type": "execute_result"
    }
   ],
   "source": [
    "len(df_clean)"
   ]
  },
  {
   "cell_type": "code",
   "execution_count": 29,
   "metadata": {},
   "outputs": [
    {
     "data": {
      "text/html": [
       "<div>\n",
       "<style scoped>\n",
       "    .dataframe tbody tr th:only-of-type {\n",
       "        vertical-align: middle;\n",
       "    }\n",
       "\n",
       "    .dataframe tbody tr th {\n",
       "        vertical-align: top;\n",
       "    }\n",
       "\n",
       "    .dataframe thead th {\n",
       "        text-align: right;\n",
       "    }\n",
       "</style>\n",
       "<table border=\"1\" class=\"dataframe\">\n",
       "  <thead>\n",
       "    <tr style=\"text-align: right;\">\n",
       "      <th></th>\n",
       "      <th>URL_LENGTH</th>\n",
       "      <th>NUMBER_SPECIAL_CHARACTERS</th>\n",
       "      <th>CONTENT_LENGTH</th>\n",
       "      <th>DIST_REMOTE_TCP_PORT</th>\n",
       "      <th>REMOTE_IPS</th>\n",
       "      <th>SOURCE_APP_BYTES</th>\n",
       "      <th>REMOTE_APP_BYTES</th>\n",
       "      <th>APP_PACKETS</th>\n",
       "      <th>DNS_QUERY_TIMES</th>\n",
       "      <th>Type</th>\n",
       "    </tr>\n",
       "  </thead>\n",
       "  <tbody>\n",
       "    <tr>\n",
       "      <th>0</th>\n",
       "      <td>16</td>\n",
       "      <td>7</td>\n",
       "      <td>263.0</td>\n",
       "      <td>0</td>\n",
       "      <td>2</td>\n",
       "      <td>1153</td>\n",
       "      <td>832</td>\n",
       "      <td>9</td>\n",
       "      <td>2.0</td>\n",
       "      <td>1</td>\n",
       "    </tr>\n",
       "    <tr>\n",
       "      <th>1</th>\n",
       "      <td>16</td>\n",
       "      <td>6</td>\n",
       "      <td>15087.0</td>\n",
       "      <td>7</td>\n",
       "      <td>4</td>\n",
       "      <td>1265</td>\n",
       "      <td>1230</td>\n",
       "      <td>17</td>\n",
       "      <td>0.0</td>\n",
       "      <td>0</td>\n",
       "    </tr>\n",
       "    <tr>\n",
       "      <th>2</th>\n",
       "      <td>16</td>\n",
       "      <td>6</td>\n",
       "      <td>324.0</td>\n",
       "      <td>0</td>\n",
       "      <td>0</td>\n",
       "      <td>0</td>\n",
       "      <td>0</td>\n",
       "      <td>0</td>\n",
       "      <td>0.0</td>\n",
       "      <td>0</td>\n",
       "    </tr>\n",
       "    <tr>\n",
       "      <th>3</th>\n",
       "      <td>17</td>\n",
       "      <td>6</td>\n",
       "      <td>162.0</td>\n",
       "      <td>22</td>\n",
       "      <td>3</td>\n",
       "      <td>18784</td>\n",
       "      <td>4380</td>\n",
       "      <td>39</td>\n",
       "      <td>8.0</td>\n",
       "      <td>0</td>\n",
       "    </tr>\n",
       "    <tr>\n",
       "      <th>4</th>\n",
       "      <td>17</td>\n",
       "      <td>6</td>\n",
       "      <td>124140.0</td>\n",
       "      <td>2</td>\n",
       "      <td>5</td>\n",
       "      <td>129889</td>\n",
       "      <td>4586</td>\n",
       "      <td>61</td>\n",
       "      <td>4.0</td>\n",
       "      <td>0</td>\n",
       "    </tr>\n",
       "  </tbody>\n",
       "</table>\n",
       "</div>"
      ],
      "text/plain": [
       "   URL_LENGTH  NUMBER_SPECIAL_CHARACTERS  CONTENT_LENGTH  \\\n",
       "0          16                          7           263.0   \n",
       "1          16                          6         15087.0   \n",
       "2          16                          6           324.0   \n",
       "3          17                          6           162.0   \n",
       "4          17                          6        124140.0   \n",
       "\n",
       "   DIST_REMOTE_TCP_PORT  REMOTE_IPS  SOURCE_APP_BYTES  REMOTE_APP_BYTES  \\\n",
       "0                     0           2              1153               832   \n",
       "1                     7           4              1265              1230   \n",
       "2                     0           0                 0                 0   \n",
       "3                    22           3             18784              4380   \n",
       "4                     2           5            129889              4586   \n",
       "\n",
       "   APP_PACKETS  DNS_QUERY_TIMES  Type  \n",
       "0            9              2.0     1  \n",
       "1           17              0.0     0  \n",
       "2            0              0.0     0  \n",
       "3           39              8.0     0  \n",
       "4           61              4.0     0  "
      ]
     },
     "execution_count": 29,
     "metadata": {},
     "output_type": "execute_result"
    }
   ],
   "source": [
    "df_clean.head()"
   ]
  },
  {
   "cell_type": "code",
   "execution_count": 30,
   "metadata": {},
   "outputs": [],
   "source": [
    "num_corr_clean = round(df_clean.corr(), 2)"
   ]
  },
  {
   "cell_type": "code",
   "execution_count": 31,
   "metadata": {},
   "outputs": [
    {
     "data": {
      "image/png": "[encoded data removed]",
      "text/plain": [
       "<Figure size 2500x1500 with 2 Axes>"
      ]
     },
     "metadata": {},
     "output_type": "display_data"
    }
   ],
   "source": [
    "# Print heatmap again\n",
    "mask = np.zeros_like(num_corr_clean)\n",
    "mask[np.triu_indices_from(mask)] = True # optional, to hide repeat half of the matrix\n",
    "\n",
    "f, ax = plt.subplots(figsize=(25, 15))\n",
    "sns.set(font_scale=1.5) # increase font size\n",
    "\n",
    "ax = sns.heatmap(num_corr_clean, mask=mask, annot=True, annot_kws={\"size\": 12}, linewidths=.5, cmap=\"coolwarm\", fmt=\".2f\", ax=ax) # round to 2 decimal places\n",
    "ax.set_title(\"Dealing with Multicollinearity\", fontsize=20) # add title\n",
    "plt.show()"
   ]
  },
  {
   "cell_type": "code",
   "execution_count": 32,
   "metadata": {},
   "outputs": [],
   "source": [
    "#if we really want all the corralation below 90 we should eliminate the column url_length.\n",
    "#This column is really correlate with my target therefore i would leave this column."
   ]
  },
  {
   "cell_type": "markdown",
   "metadata": {},
   "source": [
    "# Challenge 3 - Handle Missing Values\n",
    "\n",
    "The next step would be handling missing values. **We start by examining the number of missing values in each column, which you will do in the next cell.**"
   ]
  },
  {
   "cell_type": "code",
   "execution_count": 34,
   "metadata": {},
   "outputs": [
    {
     "data": {
      "text/plain": [
       "URL_LENGTH                     0\n",
       "NUMBER_SPECIAL_CHARACTERS      0\n",
       "CONTENT_LENGTH               812\n",
       "DIST_REMOTE_TCP_PORT           0\n",
       "REMOTE_IPS                     0\n",
       "SOURCE_APP_BYTES               0\n",
       "REMOTE_APP_BYTES               0\n",
       "APP_PACKETS                    0\n",
       "DNS_QUERY_TIMES                1\n",
       "Type                           0\n",
       "dtype: int64"
      ]
     },
     "execution_count": 34,
     "metadata": {},
     "output_type": "execute_result"
    }
   ],
   "source": [
    "# Your code here\n",
    "df_clean.isna().sum()\n"
   ]
  },
  {
   "cell_type": "markdown",
   "metadata": {},
   "source": [
    "If you remember in the previous labs, we drop a column if the column contains a high proportion of missing values. After dropping those problematic columns, we drop the rows with missing values.\n",
    "\n",
    "#### In the cells below, handle the missing values from the dataset. Remember to comment the rationale of your decisions."
   ]
  },
  {
   "cell_type": "code",
   "execution_count": 36,
   "metadata": {
    "scrolled": true
   },
   "outputs": [],
   "source": [
    "# Your code here, we can put df_clean = df_clean.drop... or we can do it like: df_clean.drop(columns=[\"CONTENT_LENGTH\"], inplace=True)\n",
    "df_clean = df_clean.drop(columns = [\"CONTENT_LENGTH\"])"
   ]
  },
  {
   "cell_type": "code",
   "execution_count": 37,
   "metadata": {},
   "outputs": [],
   "source": [
    "# Your comment here\n",
    "#I decide to erase the column CONTENT_LENGTH because is the one with must na values, we cant use the mean to fill the na because this would move a lot\n",
    "#our statistics. "
   ]
  },
  {
   "cell_type": "markdown",
   "metadata": {},
   "source": [
    "#### Again, examine the number of missing values in each column. \n",
    "\n",
    "If all cleaned, proceed. Otherwise, go back and do more cleaning."
   ]
  },
  {
   "cell_type": "code",
   "execution_count": 39,
   "metadata": {},
   "outputs": [
    {
     "data": {
      "text/plain": [
       "URL_LENGTH                   0\n",
       "NUMBER_SPECIAL_CHARACTERS    0\n",
       "DIST_REMOTE_TCP_PORT         0\n",
       "REMOTE_IPS                   0\n",
       "SOURCE_APP_BYTES             0\n",
       "REMOTE_APP_BYTES             0\n",
       "APP_PACKETS                  0\n",
       "DNS_QUERY_TIMES              1\n",
       "Type                         0\n",
       "dtype: int64"
      ]
     },
     "execution_count": 39,
     "metadata": {},
     "output_type": "execute_result"
    }
   ],
   "source": [
    "# Examine missing values in each column\n",
    "df_clean.isna().sum()"
   ]
  },
  {
   "cell_type": "code",
   "execution_count": 40,
   "metadata": {},
   "outputs": [],
   "source": [
    "df_clean['DNS_QUERY_TIMES'].fillna(method='ffill', inplace=True)"
   ]
  },
  {
   "cell_type": "code",
   "execution_count": 41,
   "metadata": {},
   "outputs": [
    {
     "data": {
      "text/plain": [
       "URL_LENGTH                   0\n",
       "NUMBER_SPECIAL_CHARACTERS    0\n",
       "DIST_REMOTE_TCP_PORT         0\n",
       "REMOTE_IPS                   0\n",
       "SOURCE_APP_BYTES             0\n",
       "REMOTE_APP_BYTES             0\n",
       "APP_PACKETS                  0\n",
       "DNS_QUERY_TIMES              0\n",
       "Type                         0\n",
       "dtype: int64"
      ]
     },
     "execution_count": 41,
     "metadata": {},
     "output_type": "execute_result"
    }
   ],
   "source": [
    "# Examine missing values in each column\n",
    "df_clean.isna().sum()"
   ]
  },
  {
   "cell_type": "markdown",
   "metadata": {},
   "source": [
    "# Challenge 4 - Handle `WHOIS_*` Categorical Data"
   ]
  },
  {
   "cell_type": "markdown",
   "metadata": {},
   "source": [
    "There are several categorical columns we need to handle. These columns are:\n",
    "\n",
    "* `URL`\n",
    "* `CHARSET`\n",
    "* `SERVER`\n",
    "* `WHOIS_COUNTRY`\n",
    "* `WHOIS_STATEPRO`\n",
    "* `WHOIS_REGDATE`\n",
    "* `WHOIS_UPDATED_DATE`\n",
    "\n",
    "How to handle string columns is always case by case. Let's start by working on `WHOIS_COUNTRY`. Your steps are:\n",
    "\n",
    "1. List out the unique values of `WHOIS_COUNTRY`.\n",
    "1. Consolidate the country values with consistent country codes. For example, the following values refer to the same country and should use consistent country code:\n",
    "    * `CY` and `Cyprus`\n",
    "    * `US` and `us`\n",
    "    * `SE` and `se`\n",
    "    * `GB`, `United Kingdom`, and `[u'GB'; u'UK']`\n",
    "\n",
    "#### In the cells below, fix the country values as intructed above."
   ]
  },
  {
   "cell_type": "code",
   "execution_count": 44,
   "metadata": {},
   "outputs": [
    {
     "data": {
      "text/html": [
       "<div>\n",
       "<style scoped>\n",
       "    .dataframe tbody tr th:only-of-type {\n",
       "        vertical-align: middle;\n",
       "    }\n",
       "\n",
       "    .dataframe tbody tr th {\n",
       "        vertical-align: top;\n",
       "    }\n",
       "\n",
       "    .dataframe thead th {\n",
       "        text-align: right;\n",
       "    }\n",
       "</style>\n",
       "<table border=\"1\" class=\"dataframe\">\n",
       "  <thead>\n",
       "    <tr style=\"text-align: right;\">\n",
       "      <th></th>\n",
       "      <th>URL</th>\n",
       "      <th>CHARSET</th>\n",
       "      <th>SERVER</th>\n",
       "      <th>WHOIS_COUNTRY</th>\n",
       "      <th>WHOIS_STATEPRO</th>\n",
       "      <th>WHOIS_REGDATE</th>\n",
       "      <th>WHOIS_UPDATED_DATE</th>\n",
       "    </tr>\n",
       "  </thead>\n",
       "  <tbody>\n",
       "    <tr>\n",
       "      <th>0</th>\n",
       "      <td>M0_109</td>\n",
       "      <td>iso-8859-1</td>\n",
       "      <td>nginx</td>\n",
       "      <td>NaN</td>\n",
       "      <td>NaN</td>\n",
       "      <td>10/10/2015 18:21</td>\n",
       "      <td>NaN</td>\n",
       "    </tr>\n",
       "    <tr>\n",
       "      <th>1</th>\n",
       "      <td>B0_2314</td>\n",
       "      <td>UTF-8</td>\n",
       "      <td>Apache/2.4.10</td>\n",
       "      <td>NaN</td>\n",
       "      <td>NaN</td>\n",
       "      <td>NaN</td>\n",
       "      <td>NaN</td>\n",
       "    </tr>\n",
       "    <tr>\n",
       "      <th>2</th>\n",
       "      <td>B0_911</td>\n",
       "      <td>us-ascii</td>\n",
       "      <td>Microsoft-HTTPAPI/2.0</td>\n",
       "      <td>NaN</td>\n",
       "      <td>NaN</td>\n",
       "      <td>NaN</td>\n",
       "      <td>NaN</td>\n",
       "    </tr>\n",
       "    <tr>\n",
       "      <th>3</th>\n",
       "      <td>B0_113</td>\n",
       "      <td>ISO-8859-1</td>\n",
       "      <td>nginx</td>\n",
       "      <td>US</td>\n",
       "      <td>AK</td>\n",
       "      <td>7/10/1997 4:00</td>\n",
       "      <td>12/09/2013 0:45</td>\n",
       "    </tr>\n",
       "    <tr>\n",
       "      <th>4</th>\n",
       "      <td>B0_403</td>\n",
       "      <td>UTF-8</td>\n",
       "      <td>NaN</td>\n",
       "      <td>US</td>\n",
       "      <td>TX</td>\n",
       "      <td>12/05/1996 0:00</td>\n",
       "      <td>11/04/2017 0:00</td>\n",
       "    </tr>\n",
       "  </tbody>\n",
       "</table>\n",
       "</div>"
      ],
      "text/plain": [
       "       URL     CHARSET                 SERVER WHOIS_COUNTRY WHOIS_STATEPRO  \\\n",
       "0   M0_109  iso-8859-1                  nginx           NaN            NaN   \n",
       "1  B0_2314       UTF-8          Apache/2.4.10           NaN            NaN   \n",
       "2   B0_911    us-ascii  Microsoft-HTTPAPI/2.0           NaN            NaN   \n",
       "3   B0_113  ISO-8859-1                  nginx            US             AK   \n",
       "4   B0_403       UTF-8                    NaN            US             TX   \n",
       "\n",
       "      WHOIS_REGDATE WHOIS_UPDATED_DATE  \n",
       "0  10/10/2015 18:21                NaN  \n",
       "1               NaN                NaN  \n",
       "2               NaN                NaN  \n",
       "3    7/10/1997 4:00    12/09/2013 0:45  \n",
       "4   12/05/1996 0:00    11/04/2017 0:00  "
      ]
     },
     "execution_count": 44,
     "metadata": {},
     "output_type": "execute_result"
    }
   ],
   "source": [
    "cat.head()"
   ]
  },
  {
   "cell_type": "code",
   "execution_count": 45,
   "metadata": {},
   "outputs": [
    {
     "data": {
      "text/plain": [
       "48"
      ]
     },
     "execution_count": 45,
     "metadata": {},
     "output_type": "execute_result"
    }
   ],
   "source": [
    "# Your code here\n",
    "cat.WHOIS_COUNTRY.nunique()"
   ]
  },
  {
   "cell_type": "code",
   "execution_count": 46,
   "metadata": {},
   "outputs": [
    {
     "data": {
      "text/plain": [
       "array([nan, 'US', 'SC', 'GB', 'UK', 'RU', 'AU', 'CA', 'PA', 'se', 'IN',\n",
       "       'LU', 'TH', \"[u'GB'; u'UK']\", 'FR', 'NL', 'UG', 'JP', 'CN', 'SE',\n",
       "       'SI', 'IL', 'ru', 'KY', 'AT', 'CZ', 'PH', 'BE', 'NO', 'TR', 'LV',\n",
       "       'DE', 'ES', 'BR', 'us', 'KR', 'HK', 'UA', 'CH', 'United Kingdom',\n",
       "       'BS', 'PK', 'IT', 'Cyprus', 'BY', 'AE', 'IE', 'UY', 'KG'],\n",
       "      dtype=object)"
      ]
     },
     "execution_count": 46,
     "metadata": {},
     "output_type": "execute_result"
    }
   ],
   "source": [
    "cat.WHOIS_COUNTRY.unique()"
   ]
  },
  {
   "cell_type": "code",
   "execution_count": 47,
   "metadata": {},
   "outputs": [],
   "source": [
    "#tengo esto cambialo por esto, key= a lo que tengo y value es lo que quiero\n",
    "country_mapping = {\n",
    "    'nan': None,\n",
    "    'US': 'US',\n",
    "    'us': 'US',\n",
    "    'GB': 'GB',\n",
    "    'UK': 'GB',\n",
    "    'United Kingdom': 'GB',\n",
    "    \"[u'GB'; u'UK']\": 'GB',\n",
    "    'RU': 'RU',\n",
    "    'ru': 'RU',\n",
    "    'AU': 'AU',\n",
    "    'CA': 'CA',\n",
    "    'PA': 'PA',\n",
    "    'se': 'SE',\n",
    "    'SE': 'SE',\n",
    "    'IN': 'IN',\n",
    "    'LU': 'LU',\n",
    "    'TH': 'TH',\n",
    "    'FR': 'FR',\n",
    "    'NL': 'NL',\n",
    "    'UG': 'UG',\n",
    "    'JP': 'JP',\n",
    "    'CN': 'CN',\n",
    "    'SI': 'SI',\n",
    "    'IL': 'IL',\n",
    "    'KY': 'KY',\n",
    "    'AT': 'AT',\n",
    "    'CZ': 'CZ',\n",
    "    'PH': 'PH',\n",
    "    'BE': 'BE',\n",
    "    'NO': 'NO',\n",
    "    'TR': 'TR',\n",
    "    'LV': 'LV',\n",
    "    'DE': 'DE',\n",
    "    'ES': 'ES',\n",
    "    'BR': 'BR',\n",
    "    'KR': 'KR',\n",
    "    'HK': 'HK',\n",
    "    'UA': 'UA',\n",
    "    'CH': 'CH',\n",
    "    'BS': 'BS',\n",
    "    'PK': 'PK',\n",
    "    'IT': 'IT',\n",
    "    'CY': 'CY',\n",
    "    'Cyprus': 'CY',\n",
    "    'BY': 'BY',\n",
    "    'AE': 'AE',\n",
    "    'IE': 'IE',\n",
    "    'UY': 'UY',\n",
    "    'KG': 'KG'\n",
    "}\n"
   ]
  },
  {
   "cell_type": "code",
   "execution_count": 48,
   "metadata": {},
   "outputs": [
    {
     "data": {
      "text/plain": [
       "49"
      ]
     },
     "execution_count": 48,
     "metadata": {},
     "output_type": "execute_result"
    }
   ],
   "source": [
    "len(country_mapping)"
   ]
  },
  {
   "cell_type": "code",
   "execution_count": 49,
   "metadata": {},
   "outputs": [],
   "source": [
    "cat['WHOIS_COUNTRY'].replace(country_mapping, inplace=True)"
   ]
  },
  {
   "cell_type": "code",
   "execution_count": 50,
   "metadata": {},
   "outputs": [
    {
     "data": {
      "text/plain": [
       "42"
      ]
     },
     "execution_count": 50,
     "metadata": {},
     "output_type": "execute_result"
    }
   ],
   "source": [
    "cat.WHOIS_COUNTRY.nunique()"
   ]
  },
  {
   "cell_type": "markdown",
   "metadata": {},
   "source": [
    "Since we have fixed the country values, can we convert this column to ordinal now?\n",
    "\n",
    "Not yet. If you reflect on the previous labs how we handle categorical columns, you probably remember we ended up dropping a lot of those columns because there are too many unique values. Too many unique values in a column is not desirable in machine learning because it makes prediction inaccurate. But there are workarounds under certain conditions. One of the fixable conditions is:\n",
    "\n",
    "#### If a limited number of values account for the majority of data, we can retain these top values and re-label all other rare values.\n",
    "\n",
    "The `WHOIS_COUNTRY` column happens to be this case. You can verify it by print a bar chart of the `value_counts` in the next cell to verify:"
   ]
  },
  {
   "cell_type": "code",
   "execution_count": 52,
   "metadata": {},
   "outputs": [
    {
     "data": {
      "text/plain": [
       "WHOIS_COUNTRY\n",
       "US    1106\n",
       "CA      84\n",
       "ES      63\n",
       "GB      35\n",
       "AU      35\n",
       "PA      21\n",
       "JP      11\n",
       "CN      10\n",
       "IN      10\n",
       "FR       9\n",
       "CZ       9\n",
       "CH       6\n",
       "NL       6\n",
       "RU       6\n",
       "KR       5\n",
       "AT       4\n",
       "BS       4\n",
       "PH       4\n",
       "SE       4\n",
       "KY       3\n",
       "TR       3\n",
       "DE       3\n",
       "HK       3\n",
       "SC       3\n",
       "BE       3\n",
       "NO       2\n",
       "UA       2\n",
       "UY       2\n",
       "CY       2\n",
       "SI       2\n",
       "KG       2\n",
       "IL       2\n",
       "BR       2\n",
       "TH       1\n",
       "PK       1\n",
       "IT       1\n",
       "UG       1\n",
       "BY       1\n",
       "AE       1\n",
       "IE       1\n",
       "LV       1\n",
       "LU       1\n",
       "Name: count, dtype: int64"
      ]
     },
     "execution_count": 52,
     "metadata": {},
     "output_type": "execute_result"
    }
   ],
   "source": [
    "# Your code here\n",
    "cat.WHOIS_COUNTRY.value_counts()\n"
   ]
  },
  {
   "cell_type": "markdown",
   "metadata": {},
   "source": [
    "#### After verifying, now let's keep the top 10 values of the column and re-label other columns with `OTHER`."
   ]
  },
  {
   "cell_type": "code",
   "execution_count": 54,
   "metadata": {
    "scrolled": true
   },
   "outputs": [],
   "source": [
    "# Your code here\n",
    "# Step 1: Get the top 10 values \n",
    "\n",
    "top_10_values = cat[\"WHOIS_COUNTRY\"].value_counts().head(10).index \n",
    "\n",
    "#Step 2: Create a new column with values ‘OTHER’ for values not in top 10 \n",
    "\n",
    "cat[\"WHOIS_COUNTRY\"] = cat[\"WHOIS_COUNTRY\"].apply(lambda x: x if x in top_10_values else \"OTHER\")"
   ]
  },
  {
   "cell_type": "code",
   "execution_count": 55,
   "metadata": {},
   "outputs": [
    {
     "data": {
      "text/plain": [
       "WHOIS_COUNTRY\n",
       "US       1106\n",
       "OTHER     397\n",
       "CA         84\n",
       "ES         63\n",
       "GB         35\n",
       "AU         35\n",
       "PA         21\n",
       "JP         11\n",
       "IN         10\n",
       "CN         10\n",
       "FR          9\n",
       "Name: count, dtype: int64"
      ]
     },
     "execution_count": 55,
     "metadata": {},
     "output_type": "execute_result"
    }
   ],
   "source": [
    "cat.WHOIS_COUNTRY.value_counts()"
   ]
  },
  {
   "cell_type": "markdown",
   "metadata": {},
   "source": [
    "Now since `WHOIS_COUNTRY` has been re-labelled, we don't need `WHOIS_STATEPRO` any more because the values of the states or provinces may not be relevant any more. We'll drop this column.\n",
    "\n",
    "In addition, we will also drop `WHOIS_REGDATE` and `WHOIS_UPDATED_DATE`. These are the registration and update dates of the website domains. Not of our concerns.\n",
    "\n",
    "#### In the next cell, drop `['WHOIS_STATEPRO', 'WHOIS_REGDATE', 'WHOIS_UPDATED_DATE']`."
   ]
  },
  {
   "cell_type": "code",
   "execution_count": 57,
   "metadata": {},
   "outputs": [],
   "source": [
    "# Your code here\n",
    "cat = cat.drop(columns = [\"WHOIS_STATEPRO\",\"WHOIS_REGDATE\",\"WHOIS_UPDATED_DATE\"])\n"
   ]
  },
  {
   "cell_type": "code",
   "execution_count": 58,
   "metadata": {},
   "outputs": [
    {
     "data": {
      "text/html": [
       "<div>\n",
       "<style scoped>\n",
       "    .dataframe tbody tr th:only-of-type {\n",
       "        vertical-align: middle;\n",
       "    }\n",
       "\n",
       "    .dataframe tbody tr th {\n",
       "        vertical-align: top;\n",
       "    }\n",
       "\n",
       "    .dataframe thead th {\n",
       "        text-align: right;\n",
       "    }\n",
       "</style>\n",
       "<table border=\"1\" class=\"dataframe\">\n",
       "  <thead>\n",
       "    <tr style=\"text-align: right;\">\n",
       "      <th></th>\n",
       "      <th>URL</th>\n",
       "      <th>CHARSET</th>\n",
       "      <th>SERVER</th>\n",
       "      <th>WHOIS_COUNTRY</th>\n",
       "    </tr>\n",
       "  </thead>\n",
       "  <tbody>\n",
       "    <tr>\n",
       "      <th>0</th>\n",
       "      <td>M0_109</td>\n",
       "      <td>iso-8859-1</td>\n",
       "      <td>nginx</td>\n",
       "      <td>OTHER</td>\n",
       "    </tr>\n",
       "    <tr>\n",
       "      <th>1</th>\n",
       "      <td>B0_2314</td>\n",
       "      <td>UTF-8</td>\n",
       "      <td>Apache/2.4.10</td>\n",
       "      <td>OTHER</td>\n",
       "    </tr>\n",
       "    <tr>\n",
       "      <th>2</th>\n",
       "      <td>B0_911</td>\n",
       "      <td>us-ascii</td>\n",
       "      <td>Microsoft-HTTPAPI/2.0</td>\n",
       "      <td>OTHER</td>\n",
       "    </tr>\n",
       "    <tr>\n",
       "      <th>3</th>\n",
       "      <td>B0_113</td>\n",
       "      <td>ISO-8859-1</td>\n",
       "      <td>nginx</td>\n",
       "      <td>US</td>\n",
       "    </tr>\n",
       "    <tr>\n",
       "      <th>4</th>\n",
       "      <td>B0_403</td>\n",
       "      <td>UTF-8</td>\n",
       "      <td>NaN</td>\n",
       "      <td>US</td>\n",
       "    </tr>\n",
       "  </tbody>\n",
       "</table>\n",
       "</div>"
      ],
      "text/plain": [
       "       URL     CHARSET                 SERVER WHOIS_COUNTRY\n",
       "0   M0_109  iso-8859-1                  nginx         OTHER\n",
       "1  B0_2314       UTF-8          Apache/2.4.10         OTHER\n",
       "2   B0_911    us-ascii  Microsoft-HTTPAPI/2.0         OTHER\n",
       "3   B0_113  ISO-8859-1                  nginx            US\n",
       "4   B0_403       UTF-8                    NaN            US"
      ]
     },
     "execution_count": 58,
     "metadata": {},
     "output_type": "execute_result"
    }
   ],
   "source": [
    "cat.head()"
   ]
  },
  {
   "cell_type": "markdown",
   "metadata": {},
   "source": [
    "# Challenge 5 - Handle Remaining Categorical Data & Convert to Ordinal\n",
    "\n",
    "Now print the `dtypes` of the data again. Besides `WHOIS_COUNTRY` which we already fixed, there should be 3 categorical columns left: `URL`, `CHARSET`, and `SERVER`."
   ]
  },
  {
   "cell_type": "code",
   "execution_count": 60,
   "metadata": {},
   "outputs": [
    {
     "data": {
      "text/plain": [
       "URL              object\n",
       "CHARSET          object\n",
       "SERVER           object\n",
       "WHOIS_COUNTRY    object\n",
       "dtype: object"
      ]
     },
     "execution_count": 60,
     "metadata": {},
     "output_type": "execute_result"
    }
   ],
   "source": [
    "# Your code here\n",
    "cat.dtypes"
   ]
  },
  {
   "cell_type": "markdown",
   "metadata": {},
   "source": [
    "#### `URL` is easy. We'll simply drop it because it has too many unique values that there's no way for us to consolidate."
   ]
  },
  {
   "cell_type": "code",
   "execution_count": 62,
   "metadata": {},
   "outputs": [],
   "source": [
    "# Your code here\n",
    "cat = cat.drop(columns = [\"URL\"])"
   ]
  },
  {
   "cell_type": "code",
   "execution_count": 63,
   "metadata": {},
   "outputs": [
    {
     "data": {
      "text/html": [
       "<div>\n",
       "<style scoped>\n",
       "    .dataframe tbody tr th:only-of-type {\n",
       "        vertical-align: middle;\n",
       "    }\n",
       "\n",
       "    .dataframe tbody tr th {\n",
       "        vertical-align: top;\n",
       "    }\n",
       "\n",
       "    .dataframe thead th {\n",
       "        text-align: right;\n",
       "    }\n",
       "</style>\n",
       "<table border=\"1\" class=\"dataframe\">\n",
       "  <thead>\n",
       "    <tr style=\"text-align: right;\">\n",
       "      <th></th>\n",
       "      <th>CHARSET</th>\n",
       "      <th>SERVER</th>\n",
       "      <th>WHOIS_COUNTRY</th>\n",
       "    </tr>\n",
       "  </thead>\n",
       "  <tbody>\n",
       "    <tr>\n",
       "      <th>0</th>\n",
       "      <td>iso-8859-1</td>\n",
       "      <td>nginx</td>\n",
       "      <td>OTHER</td>\n",
       "    </tr>\n",
       "    <tr>\n",
       "      <th>1</th>\n",
       "      <td>UTF-8</td>\n",
       "      <td>Apache/2.4.10</td>\n",
       "      <td>OTHER</td>\n",
       "    </tr>\n",
       "    <tr>\n",
       "      <th>2</th>\n",
       "      <td>us-ascii</td>\n",
       "      <td>Microsoft-HTTPAPI/2.0</td>\n",
       "      <td>OTHER</td>\n",
       "    </tr>\n",
       "    <tr>\n",
       "      <th>3</th>\n",
       "      <td>ISO-8859-1</td>\n",
       "      <td>nginx</td>\n",
       "      <td>US</td>\n",
       "    </tr>\n",
       "    <tr>\n",
       "      <th>4</th>\n",
       "      <td>UTF-8</td>\n",
       "      <td>NaN</td>\n",
       "      <td>US</td>\n",
       "    </tr>\n",
       "  </tbody>\n",
       "</table>\n",
       "</div>"
      ],
      "text/plain": [
       "      CHARSET                 SERVER WHOIS_COUNTRY\n",
       "0  iso-8859-1                  nginx         OTHER\n",
       "1       UTF-8          Apache/2.4.10         OTHER\n",
       "2    us-ascii  Microsoft-HTTPAPI/2.0         OTHER\n",
       "3  ISO-8859-1                  nginx            US\n",
       "4       UTF-8                    NaN            US"
      ]
     },
     "execution_count": 63,
     "metadata": {},
     "output_type": "execute_result"
    }
   ],
   "source": [
    "cat.head()"
   ]
  },
  {
   "cell_type": "markdown",
   "metadata": {},
   "source": [
    "#### Print the unique value counts of `CHARSET`. You see there are only a few unique values. So we can keep it as it is."
   ]
  },
  {
   "cell_type": "code",
   "execution_count": 65,
   "metadata": {},
   "outputs": [
    {
     "data": {
      "text/plain": [
       "array(['iso-8859-1', 'UTF-8', 'us-ascii', 'ISO-8859-1', 'utf-8', nan,\n",
       "       'windows-1251', 'ISO-8859', 'windows-1252'], dtype=object)"
      ]
     },
     "execution_count": 65,
     "metadata": {},
     "output_type": "execute_result"
    }
   ],
   "source": [
    "# Your code here\n",
    "cat.CHARSET.unique()"
   ]
  },
  {
   "cell_type": "markdown",
   "metadata": {},
   "source": [
    "`SERVER` is a little more complicated. Print its unique values and think about how you can consolidate those values.\n",
    "\n",
    "#### Before you think of your own solution, don't read the instructions that come next."
   ]
  },
  {
   "cell_type": "code",
   "execution_count": 67,
   "metadata": {},
   "outputs": [
    {
     "data": {
      "text/plain": [
       "array(['nginx', 'Apache/2.4.10', 'Microsoft-HTTPAPI/2.0', nan, 'Apache/2',\n",
       "       'nginx/1.10.1', 'Apache', 'Apache/2.2.15 (Red Hat)',\n",
       "       'Apache/2.4.23 (Unix) OpenSSL/1.0.1e-fips mod_bwlimited/1.4',\n",
       "       'openresty/1.11.2.1', 'Apache/2.2.22', 'Apache/2.4.7 (Ubuntu)',\n",
       "       'nginx/1.12.0',\n",
       "       'Apache/2.4.12 (Unix) OpenSSL/1.0.1e-fips mod_bwlimited/1.4',\n",
       "       'Oracle-iPlanet-Web-Server/7.0', 'cloudflare-nginx', 'nginx/1.6.2',\n",
       "       'openresty', 'Heptu web server', 'Pepyaka/1.11.3', 'nginx/1.8.0',\n",
       "       'nginx/1.10.1 + Phusion Passenger 5.0.30',\n",
       "       'Apache/2.2.29 (Amazon)', 'Microsoft-IIS/7.5', 'LiteSpeed',\n",
       "       'Apache/2.4.25 (cPanel) OpenSSL/1.0.1e-fips mod_bwlimited/1.4',\n",
       "       'tsa_c', 'Apache/2.2.0 (Fedora)', 'Apache/2.2.22 (Debian)',\n",
       "       'Apache/2.2.15 (CentOS)', 'Apache/2.4.25',\n",
       "       'Apache/2.4.25 (Amazon) PHP/7.0.14', 'GSE',\n",
       "       'Apache/2.4.23 (Unix) OpenSSL/0.9.8e-fips-rhel5 mod_bwlimited/1.4',\n",
       "       'Apache/2.4.25 (Amazon) OpenSSL/1.0.1k-fips',\n",
       "       'Apache/2.2.22 (Ubuntu)', 'Tengine',\n",
       "       'Apache/2.4.18 (Unix) OpenSSL/0.9.8e-fips-rhel5 mod_bwlimited/1.4',\n",
       "       'Apache/2.4.10 (Debian)', 'Apache/2.4.6 (CentOS) PHP/5.6.8',\n",
       "       'Sun-ONE-Web-Server/6.1',\n",
       "       'Apache/2.4.18 (Unix) OpenSSL/1.0.2e Communique/4.1.10',\n",
       "       'AmazonS3',\n",
       "       'Apache/1.3.37 (Unix) mod_perl/1.29 mod_ssl/2.8.28 OpenSSL/0.9.7e-p1',\n",
       "       'ATS', 'Apache/2.2.27 (CentOS)',\n",
       "       'Apache/2.2.29 (Unix) mod_ssl/2.2.29 OpenSSL/1.0.1e-fips DAV/2 mod_bwlimited/1.4',\n",
       "       'CherryPy/3.6.0', 'Server', 'KHL',\n",
       "       'Apache/2.4.6 (CentOS) OpenSSL/1.0.1e-fips mod_fcgid/2.3.9 PHP/5.4.16 mod_jk/1.2.40',\n",
       "       'Apache/2.2.3 (CentOS)', 'Apache/2.4',\n",
       "       'Apache/1.3.27 (Unix)  (Red-Hat/Linux) mod_perl/1.26 PHP/4.3.3 FrontPage/5.0.2 mod_ssl/2.8.12 OpenSSL/0.9.6b',\n",
       "       'mw2114.codfw.wmnet',\n",
       "       'Apache/2.2.31 (Unix) mod_ssl/2.2.31 OpenSSL/1.0.1e-fips mod_bwlimited/1.4 mod_perl/2.0.8 Perl/v5.10.1',\n",
       "       'Apache/1.3.34 (Unix) PHP/4.4.4', 'Apache/2.2.31 (Amazon)',\n",
       "       'Jetty(9.0.z-SNAPSHOT)', 'Apache/2.2.31 (CentOS)',\n",
       "       'Apache/2.4.12 (Ubuntu)', 'HTTPDaemon',\n",
       "       'Apache/2.2.29 (Unix) mod_ssl/2.2.29 OpenSSL/1.0.1e-fips mod_bwlimited/1.4',\n",
       "       'MediaFire', 'DOSarrest', 'mw2232.codfw.wmnet',\n",
       "       'Sucuri/Cloudproxy', 'Apache/2.4.23 (Unix)', 'nginx/0.7.65',\n",
       "       'mw2260.codfw.wmnet', 'Apache/2.2.32', 'mw2239.codfw.wmnet',\n",
       "       'DPS/1.1.8', 'Apache/2.0.52 (Red Hat)',\n",
       "       'Apache/2.2.25 (Unix) mod_ssl/2.2.25 OpenSSL/0.9.8e-fips-rhel5 mod_bwlimited/1.4',\n",
       "       'Apache/1.3.31 (Unix) PHP/4.3.9 mod_perl/1.29 rus/PL30.20',\n",
       "       'Apache/2.2.13 (Unix) mod_ssl/2.2.13 OpenSSL/0.9.8e-fips-rhel5 mod_auth_passthrough/2.1 mod_bwlimited/1.4 PHP/5.2.10',\n",
       "       'nginx/1.1.19', 'ATS/5.3.0', 'Apache/2.2.3 (Red Hat)',\n",
       "       'nginx/1.4.3',\n",
       "       'Apache/2.2.29 (Unix) mod_ssl/2.2.29 OpenSSL/1.0.1e-fips mod_bwlimited/1.4 PHP/5.4.35',\n",
       "       'Apache/2.2.14 (FreeBSD) mod_ssl/2.2.14 OpenSSL/0.9.8y DAV/2 PHP/5.2.12 with Suhosin-Patch',\n",
       "       'Apache/2.2.14 (Unix) mod_ssl/2.2.14 OpenSSL/0.9.8e-fips-rhel5',\n",
       "       'Apache/1.3.39 (Unix) PHP/5.2.5 mod_auth_passthrough/1.8 mod_bwlimited/1.4 mod_log_bytes/1.2 mod_gzip/1.3.26.1a FrontPage/5.0.2.2635 DAV/1.0.3 mod_ssl/2.8.30 OpenSSL/0.9.7a',\n",
       "       'SSWS', 'Microsoft-IIS/8.0', 'Apache/2.4.18 (Ubuntu)',\n",
       "       'Apache/2.4.6 (CentOS) OpenSSL/1.0.1e-fips PHP/5.4.16 mod_apreq2-20090110/2.8.0 mod_perl/2.0.10 Perl/v5.24.1',\n",
       "       'Apache/2.2.20 (Unix)', 'YouTubeFrontEnd', 'nginx/1.11.3',\n",
       "       'nginx/1.11.2', 'nginx/1.10.0 (Ubuntu)', 'nginx/1.8.1',\n",
       "       'nginx/1.11.10', 'Squeegit/1.2.5 (3_sir)',\n",
       "       'Virtuoso/07.20.3217 (Linux) i686-generic-linux-glibc212-64  VDB',\n",
       "       'Apache-Coyote/1.1', 'Yippee-Ki-Yay', 'mw2165.codfw.wmnet',\n",
       "       'mw2192.codfw.wmnet', 'Apache/2.2.23 (Amazon)',\n",
       "       'nginx/1.4.6 (Ubuntu)', 'nginx + Phusion Passenger',\n",
       "       'Proxy Pandeiro UOL', 'mw2231.codfw.wmnet', 'openresty/1.11.2.2',\n",
       "       'mw2109.codfw.wmnet', 'nginx/0.8.54', 'Apache/2.4.6',\n",
       "       'mw2225.codfw.wmnet', 'Apache/1.3.27 (Unix) PHP/4.4.1',\n",
       "       'mw2236.codfw.wmnet', 'mw2101.codfw.wmnet', 'Varnish',\n",
       "       'Resin/3.1.8', 'mw2164.codfw.wmnet', 'Microsoft-IIS/8.5',\n",
       "       'mw2242.codfw.wmnet',\n",
       "       'Apache/2.4.6 (CentOS) OpenSSL/1.0.1e-fips PHP/5.5.38',\n",
       "       'mw2175.codfw.wmnet', 'mw2107.codfw.wmnet', 'mw2190.codfw.wmnet',\n",
       "       'Apache/2.4.6 (CentOS)', 'nginx/1.13.0', 'barista/5.1.3',\n",
       "       'mw2103.codfw.wmnet', 'Apache/2.4.25 (Debian)', 'ECD (fll/0790)',\n",
       "       'Pagely Gateway/1.5.1', 'nginx/1.10.3',\n",
       "       'Apache/2.4.25 (FreeBSD) OpenSSL/1.0.1s-freebsd PHP/5.6.30',\n",
       "       'mw2097.codfw.wmnet', 'mw2233.codfw.wmnet', 'fbs',\n",
       "       'mw2199.codfw.wmnet', 'mw2255.codfw.wmnet', 'mw2228.codfw.wmnet',\n",
       "       'Apache/2.2.31 (Unix) mod_ssl/2.2.31 OpenSSL/1.0.1e-fips mod_bwlimited/1.4 mod_fcgid/2.3.9',\n",
       "       'gunicorn/19.7.1',\n",
       "       'Apache/2.2.31 (Unix) mod_ssl/2.2.31 OpenSSL/0.9.8e-fips-rhel5 mod_bwlimited/1.4',\n",
       "       'Apache/2.4.6 (CentOS) OpenSSL/1.0.1e-fips PHP/5.4.16',\n",
       "       'mw2241.codfw.wmnet',\n",
       "       'Apache/1.3.33 (Unix) mod_ssl/2.8.24 OpenSSL/0.9.7e-p1 PHP/4.4.8',\n",
       "       'lighttpd', 'mw2230.codfw.wmnet',\n",
       "       'Apache/2.4.6 (CentOS) OpenSSL/1.0.1e-fips', 'AkamaiGHost',\n",
       "       'mw2240.codfw.wmnet', 'nginx/1.10.2', 'PWS/8.2.0.7', 'nginx/1.2.1',\n",
       "       'nxfps',\n",
       "       'Apache/2.2.16 (Unix) mod_ssl/2.2.16 OpenSSL/0.9.8e-fips-rhel5 mod_auth_passthrough/2.1 mod_bwlimited/1.4',\n",
       "       'Play', 'mw2185.codfw.wmnet',\n",
       "       'Apache/2.4.10 (Unix) OpenSSL/1.0.1k',\n",
       "       'Apache/Not telling (Unix) AuthTDS/1.1',\n",
       "       'Apache/2.2.11 (Unix) PHP/5.2.6', 'Scratch Web Server',\n",
       "       'marrakesh 1.12.2', 'nginx/0.8.35', 'mw2182.codfw.wmnet',\n",
       "       'squid/3.3.8', 'nginx/1.10.0', 'Nginx (OpenBSD)',\n",
       "       'Zope/(2.13.16; python 2.6.8; linux2) ZServer/1.1',\n",
       "       'Apache/2.2.26 (Unix) mod_ssl/2.2.26 OpenSSL/0.9.8e-fips-rhel5 mod_bwlimited/1.4 PHP/5.4.26',\n",
       "       'Apache/2.2.21 (Unix) mod_ssl/2.2.21 OpenSSL/0.9.8e-fips-rhel5 PHP/5.3.10',\n",
       "       'Apache/2.2.27 (Unix) OpenAM Web Agent/4.0.1-1 mod_ssl/2.2.27 OpenSSL/1.0.1p PHP/5.3.28',\n",
       "       'mw2104.codfw.wmnet', '.V01 Apache', 'mw2110.codfw.wmnet',\n",
       "       'Apache/2.4.6 (Unix) mod_jk/1.2.37 PHP/5.5.1 OpenSSL/1.0.1g mod_fcgid/2.3.9',\n",
       "       'mw2176.codfw.wmnet', 'mw2187.codfw.wmnet', 'mw2106.codfw.wmnet',\n",
       "       'Microsoft-IIS/7.0',\n",
       "       'Apache/1.3.42 Ben-SSL/1.60 (Unix) mod_gzip/1.3.26.1a mod_fastcgi/2.4.6 mod_throttle/3.1.2 Chili!Soft-ASP/3.6.2 FrontPage/5.0.2.2635 mod_perl/1.31 PHP/4.4.9',\n",
       "       'Aeria Games & Entertainment', 'nginx/1.6.3 + Phusion Passenger',\n",
       "       'Apache/2.4.10 (Debian) PHP/5.6.30-0+deb8u1 mod_perl/2.0.9dev Perl/v5.20.2',\n",
       "       'mw2173.codfw.wmnet',\n",
       "       'Apache/2.4.6 (Red Hat Enterprise Linux) OpenSSL/1.0.1e-fips mod_fcgid/2.3.9 Communique/4.2.0',\n",
       "       'Apache/2.2.15 (CentOS) DAV/2 mod_ssl/2.2.15 OpenSSL/1.0.1e-fips PHP/5.3.3',\n",
       "       'Apache/2.4.6 (CentOS) OpenSSL/1.0.1e-fips PHP/7.0.14',\n",
       "       'mw2198.codfw.wmnet', 'mw2172.codfw.wmnet', 'nginx/1.2.6',\n",
       "       'Apache/2.4.6 (Unix) mod_jk/1.2.37',\n",
       "       'Apache/2.4.25 (Unix) OpenSSL/1.0.1e-fips mod_bwlimited/1.4',\n",
       "       'nginx/1.4.4', 'Cowboy', 'mw2113.codfw.wmnet',\n",
       "       'Apache/2.2.14 (Unix) mod_ssl/2.2.14 OpenSSL/0.9.8a',\n",
       "       'Apache/2.4.10 (Ubuntu)', 'mw2224.codfw.wmnet',\n",
       "       'mw2171.codfw.wmnet', 'mw2257.codfw.wmnet', 'mw2226.codfw.wmnet',\n",
       "       'DMS/1.0.42', 'nginx/1.6.3', 'Application-Server',\n",
       "       'Apache/2.4.6 (CentOS) mod_fcgid/2.3.9 PHP/5.6.30',\n",
       "       'mw2177.codfw.wmnet', 'lighttpd/1.4.28', 'mw2197.codfw.wmnet',\n",
       "       'Apache/2.2.31 (FreeBSD) PHP/5.4.15 mod_ssl/2.2.31 OpenSSL/1.0.2d DAV/2',\n",
       "       'Apache/2.2.26 (Unix) mod_ssl/2.2.26 OpenSSL/1.0.1e-fips DAV/2 mod_bwlimited/1.4',\n",
       "       'Apache/2.2.24 (Unix) DAV/2 PHP/5.3.26 mod_ssl/2.2.24 OpenSSL/0.9.8y',\n",
       "       'mw2178.codfw.wmnet', '294', 'Microsoft-IIS/6.0', 'nginx/1.7.4',\n",
       "       'Apache/2.2.22 (Debian) mod_python/3.3.1 Python/2.7.3 mod_ssl/2.2.22 OpenSSL/1.0.1t',\n",
       "       'Apache/2.4.16 (Ubuntu)', 'www.lexisnexis.com  9999',\n",
       "       'nginx/0.8.38', 'mw2238.codfw.wmnet', 'Pizza/pepperoni',\n",
       "       'XXXXXXXXXXXXXXXXXXXXXX', 'MI', 'Roxen/5.4.98-r2',\n",
       "       'Apache/2.2.31 (Unix) mod_ssl/2.2.31 OpenSSL/1.0.1e-fips mod_bwlimited/1.4',\n",
       "       'nginx/1.9.13', 'mw2180.codfw.wmnet', 'Apache/2.2.14 (Ubuntu)',\n",
       "       'ebay server', 'nginx/0.8.55', 'Apache/2.2.10 (Linux/SUSE)',\n",
       "       'nginx/1.7.12',\n",
       "       'Apache/2.0.63 (Unix) mod_ssl/2.0.63 OpenSSL/0.9.8e-fips-rhel5 mod_auth_passthrough/2.1 mod_bwlimited/1.4 PHP/5.3.6',\n",
       "       'Boston.com Frontend', 'My Arse', 'IdeaWebServer/v0.80',\n",
       "       'Apache/2.4.17 (Unix) OpenSSL/1.0.1e-fips PHP/5.6.19',\n",
       "       'Microsoft-IIS/7.5; litigation_essentials.lexisnexis.com  9999',\n",
       "       'Apache/2.2.16 (Debian)'], dtype=object)"
      ]
     },
     "execution_count": 67,
     "metadata": {},
     "output_type": "execute_result"
    }
   ],
   "source": [
    "# Your code here\n",
    "cat.SERVER.unique()"
   ]
  },
  {
   "cell_type": "markdown",
   "metadata": {},
   "source": [
    "![Think Hard](../images/think-hard.jpg)"
   ]
  },
  {
   "cell_type": "code",
   "execution_count": 69,
   "metadata": {},
   "outputs": [],
   "source": [
    "# Your comment here\n",
    "#I think that i would use a regex to indicate that i want everything before the /."
   ]
  },
  {
   "cell_type": "markdown",
   "metadata": {},
   "source": [
    "Although there are so many unique values in the `SERVER` column, there are actually only 3 main server types: `Microsoft`, `Apache`, and `nginx`. Just check if each `SERVER` value contains any of those server types and re-label them. For `SERVER` values that don't contain any of those substrings, label with `Other`.\n",
    "\n",
    "At the end, your `SERVER` column should only contain 4 unique values: `Microsoft`, `Apache`, `nginx`, and `Other`."
   ]
  },
  {
   "cell_type": "code",
   "execution_count": 71,
   "metadata": {},
   "outputs": [],
   "source": [
    "# Your code here\n",
    "import re\n",
    "regex = r\"^[^/]+\"\n",
    "cat['SERVER'] = cat['SERVER'].apply(lambda x: re.match(regex, str(x)).group(0) if isinstance(x, str) and re.match(regex, str(x)) else x)"
   ]
  },
  {
   "cell_type": "code",
   "execution_count": 72,
   "metadata": {
    "scrolled": true
   },
   "outputs": [
    {
     "data": {
      "text/plain": [
       "SERVER\n",
       "Apache                622\n",
       "nginx                 337\n",
       "Microsoft-HTTPAPI     113\n",
       "cloudflare-nginx       94\n",
       "Microsoft-IIS          85\n",
       "                     ... \n",
       "mw2103.codfw.wmnet      1\n",
       "barista                 1\n",
       "mw2190.codfw.wmnet      1\n",
       "mw2107.codfw.wmnet      1\n",
       "IdeaWebServer           1\n",
       "Name: count, Length: 110, dtype: int64"
      ]
     },
     "execution_count": 72,
     "metadata": {},
     "output_type": "execute_result"
    }
   ],
   "source": [
    "# Count `SERVER` value counts here\n",
    "cat.SERVER.value_counts()"
   ]
  },
  {
   "cell_type": "code",
   "execution_count": 73,
   "metadata": {},
   "outputs": [],
   "source": [
    "top_3_server = cat[\"SERVER\"].value_counts().head(3).index \n",
    "\n",
    "#Step 2: Create a new column with values ‘OTHER’ for values not in top 10 \n",
    "\n",
    "cat[\"SERVER\"] = cat[\"SERVER\"].apply(lambda x: x if x in top_3_server else \"OTHER\")"
   ]
  },
  {
   "cell_type": "code",
   "execution_count": 74,
   "metadata": {},
   "outputs": [
    {
     "data": {
      "text/plain": [
       "SERVER\n",
       "OTHER                709\n",
       "Apache               622\n",
       "nginx                337\n",
       "Microsoft-HTTPAPI    113\n",
       "Name: count, dtype: int64"
      ]
     },
     "execution_count": 74,
     "metadata": {},
     "output_type": "execute_result"
    }
   ],
   "source": [
    "cat.SERVER.value_counts()"
   ]
  },
  {
   "cell_type": "markdown",
   "metadata": {},
   "source": [
    "OK, all our categorical data are fixed now. **Let's convert them to ordinal data using Pandas' `get_dummies` function ([documentation](https://pandas.pydata.org/pandas-docs/stable/generated/pandas.get_dummies.html)). Also, assign the data with dummy values to a new variable `website_dummy`.**"
   ]
  },
  {
   "cell_type": "code",
   "execution_count": 76,
   "metadata": {},
   "outputs": [
    {
     "data": {
      "text/html": [
       "<div>\n",
       "<style scoped>\n",
       "    .dataframe tbody tr th:only-of-type {\n",
       "        vertical-align: middle;\n",
       "    }\n",
       "\n",
       "    .dataframe tbody tr th {\n",
       "        vertical-align: top;\n",
       "    }\n",
       "\n",
       "    .dataframe thead th {\n",
       "        text-align: right;\n",
       "    }\n",
       "</style>\n",
       "<table border=\"1\" class=\"dataframe\">\n",
       "  <thead>\n",
       "    <tr style=\"text-align: right;\">\n",
       "      <th></th>\n",
       "      <th>CHARSET</th>\n",
       "      <th>SERVER</th>\n",
       "      <th>WHOIS_COUNTRY</th>\n",
       "    </tr>\n",
       "  </thead>\n",
       "  <tbody>\n",
       "    <tr>\n",
       "      <th>0</th>\n",
       "      <td>iso-8859-1</td>\n",
       "      <td>nginx</td>\n",
       "      <td>OTHER</td>\n",
       "    </tr>\n",
       "    <tr>\n",
       "      <th>1</th>\n",
       "      <td>UTF-8</td>\n",
       "      <td>Apache</td>\n",
       "      <td>OTHER</td>\n",
       "    </tr>\n",
       "    <tr>\n",
       "      <th>2</th>\n",
       "      <td>us-ascii</td>\n",
       "      <td>Microsoft-HTTPAPI</td>\n",
       "      <td>OTHER</td>\n",
       "    </tr>\n",
       "    <tr>\n",
       "      <th>3</th>\n",
       "      <td>ISO-8859-1</td>\n",
       "      <td>nginx</td>\n",
       "      <td>US</td>\n",
       "    </tr>\n",
       "    <tr>\n",
       "      <th>4</th>\n",
       "      <td>UTF-8</td>\n",
       "      <td>OTHER</td>\n",
       "      <td>US</td>\n",
       "    </tr>\n",
       "  </tbody>\n",
       "</table>\n",
       "</div>"
      ],
      "text/plain": [
       "      CHARSET             SERVER WHOIS_COUNTRY\n",
       "0  iso-8859-1              nginx         OTHER\n",
       "1       UTF-8             Apache         OTHER\n",
       "2    us-ascii  Microsoft-HTTPAPI         OTHER\n",
       "3  ISO-8859-1              nginx            US\n",
       "4       UTF-8              OTHER            US"
      ]
     },
     "execution_count": 76,
     "metadata": {},
     "output_type": "execute_result"
    }
   ],
   "source": [
    "cat.head()"
   ]
  },
  {
   "cell_type": "code",
   "execution_count": 77,
   "metadata": {},
   "outputs": [],
   "source": [
    "website_dummy =pd.get_dummies(cat, prefix=['CHARSET', 'SERVER','WHOIS_COUNTRY'])"
   ]
  },
  {
   "cell_type": "code",
   "execution_count": 78,
   "metadata": {},
   "outputs": [
    {
     "data": {
      "text/html": [
       "<div>\n",
       "<style scoped>\n",
       "    .dataframe tbody tr th:only-of-type {\n",
       "        vertical-align: middle;\n",
       "    }\n",
       "\n",
       "    .dataframe tbody tr th {\n",
       "        vertical-align: top;\n",
       "    }\n",
       "\n",
       "    .dataframe thead th {\n",
       "        text-align: right;\n",
       "    }\n",
       "</style>\n",
       "<table border=\"1\" class=\"dataframe\">\n",
       "  <thead>\n",
       "    <tr style=\"text-align: right;\">\n",
       "      <th></th>\n",
       "      <th>CHARSET_ISO-8859</th>\n",
       "      <th>CHARSET_ISO-8859-1</th>\n",
       "      <th>CHARSET_UTF-8</th>\n",
       "      <th>CHARSET_iso-8859-1</th>\n",
       "      <th>CHARSET_us-ascii</th>\n",
       "      <th>CHARSET_utf-8</th>\n",
       "      <th>CHARSET_windows-1251</th>\n",
       "      <th>CHARSET_windows-1252</th>\n",
       "      <th>SERVER_Apache</th>\n",
       "      <th>SERVER_Microsoft-HTTPAPI</th>\n",
       "      <th>SERVER_OTHER</th>\n",
       "      <th>SERVER_nginx</th>\n",
       "      <th>WHOIS_COUNTRY_AU</th>\n",
       "      <th>WHOIS_COUNTRY_CA</th>\n",
       "      <th>WHOIS_COUNTRY_CN</th>\n",
       "      <th>WHOIS_COUNTRY_ES</th>\n",
       "      <th>WHOIS_COUNTRY_FR</th>\n",
       "      <th>WHOIS_COUNTRY_GB</th>\n",
       "      <th>WHOIS_COUNTRY_IN</th>\n",
       "      <th>WHOIS_COUNTRY_JP</th>\n",
       "      <th>WHOIS_COUNTRY_OTHER</th>\n",
       "      <th>WHOIS_COUNTRY_PA</th>\n",
       "      <th>WHOIS_COUNTRY_US</th>\n",
       "    </tr>\n",
       "  </thead>\n",
       "  <tbody>\n",
       "    <tr>\n",
       "      <th>0</th>\n",
       "      <td>False</td>\n",
       "      <td>False</td>\n",
       "      <td>False</td>\n",
       "      <td>True</td>\n",
       "      <td>False</td>\n",
       "      <td>False</td>\n",
       "      <td>False</td>\n",
       "      <td>False</td>\n",
       "      <td>False</td>\n",
       "      <td>False</td>\n",
       "      <td>False</td>\n",
       "      <td>True</td>\n",
       "      <td>False</td>\n",
       "      <td>False</td>\n",
       "      <td>False</td>\n",
       "      <td>False</td>\n",
       "      <td>False</td>\n",
       "      <td>False</td>\n",
       "      <td>False</td>\n",
       "      <td>False</td>\n",
       "      <td>True</td>\n",
       "      <td>False</td>\n",
       "      <td>False</td>\n",
       "    </tr>\n",
       "    <tr>\n",
       "      <th>1</th>\n",
       "      <td>False</td>\n",
       "      <td>False</td>\n",
       "      <td>True</td>\n",
       "      <td>False</td>\n",
       "      <td>False</td>\n",
       "      <td>False</td>\n",
       "      <td>False</td>\n",
       "      <td>False</td>\n",
       "      <td>True</td>\n",
       "      <td>False</td>\n",
       "      <td>False</td>\n",
       "      <td>False</td>\n",
       "      <td>False</td>\n",
       "      <td>False</td>\n",
       "      <td>False</td>\n",
       "      <td>False</td>\n",
       "      <td>False</td>\n",
       "      <td>False</td>\n",
       "      <td>False</td>\n",
       "      <td>False</td>\n",
       "      <td>True</td>\n",
       "      <td>False</td>\n",
       "      <td>False</td>\n",
       "    </tr>\n",
       "    <tr>\n",
       "      <th>2</th>\n",
       "      <td>False</td>\n",
       "      <td>False</td>\n",
       "      <td>False</td>\n",
       "      <td>False</td>\n",
       "      <td>True</td>\n",
       "      <td>False</td>\n",
       "      <td>False</td>\n",
       "      <td>False</td>\n",
       "      <td>False</td>\n",
       "      <td>True</td>\n",
       "      <td>False</td>\n",
       "      <td>False</td>\n",
       "      <td>False</td>\n",
       "      <td>False</td>\n",
       "      <td>False</td>\n",
       "      <td>False</td>\n",
       "      <td>False</td>\n",
       "      <td>False</td>\n",
       "      <td>False</td>\n",
       "      <td>False</td>\n",
       "      <td>True</td>\n",
       "      <td>False</td>\n",
       "      <td>False</td>\n",
       "    </tr>\n",
       "    <tr>\n",
       "      <th>3</th>\n",
       "      <td>False</td>\n",
       "      <td>True</td>\n",
       "      <td>False</td>\n",
       "      <td>False</td>\n",
       "      <td>False</td>\n",
       "      <td>False</td>\n",
       "      <td>False</td>\n",
       "      <td>False</td>\n",
       "      <td>False</td>\n",
       "      <td>False</td>\n",
       "      <td>False</td>\n",
       "      <td>True</td>\n",
       "      <td>False</td>\n",
       "      <td>False</td>\n",
       "      <td>False</td>\n",
       "      <td>False</td>\n",
       "      <td>False</td>\n",
       "      <td>False</td>\n",
       "      <td>False</td>\n",
       "      <td>False</td>\n",
       "      <td>False</td>\n",
       "      <td>False</td>\n",
       "      <td>True</td>\n",
       "    </tr>\n",
       "    <tr>\n",
       "      <th>4</th>\n",
       "      <td>False</td>\n",
       "      <td>False</td>\n",
       "      <td>True</td>\n",
       "      <td>False</td>\n",
       "      <td>False</td>\n",
       "      <td>False</td>\n",
       "      <td>False</td>\n",
       "      <td>False</td>\n",
       "      <td>False</td>\n",
       "      <td>False</td>\n",
       "      <td>True</td>\n",
       "      <td>False</td>\n",
       "      <td>False</td>\n",
       "      <td>False</td>\n",
       "      <td>False</td>\n",
       "      <td>False</td>\n",
       "      <td>False</td>\n",
       "      <td>False</td>\n",
       "      <td>False</td>\n",
       "      <td>False</td>\n",
       "      <td>False</td>\n",
       "      <td>False</td>\n",
       "      <td>True</td>\n",
       "    </tr>\n",
       "  </tbody>\n",
       "</table>\n",
       "</div>"
      ],
      "text/plain": [
       "   CHARSET_ISO-8859  CHARSET_ISO-8859-1  CHARSET_UTF-8  CHARSET_iso-8859-1  \\\n",
       "0             False               False          False                True   \n",
       "1             False               False           True               False   \n",
       "2             False               False          False               False   \n",
       "3             False                True          False               False   \n",
       "4             False               False           True               False   \n",
       "\n",
       "   CHARSET_us-ascii  CHARSET_utf-8  CHARSET_windows-1251  \\\n",
       "0             False          False                 False   \n",
       "1             False          False                 False   \n",
       "2              True          False                 False   \n",
       "3             False          False                 False   \n",
       "4             False          False                 False   \n",
       "\n",
       "   CHARSET_windows-1252  SERVER_Apache  SERVER_Microsoft-HTTPAPI  \\\n",
       "0                 False          False                     False   \n",
       "1                 False           True                     False   \n",
       "2                 False          False                      True   \n",
       "3                 False          False                     False   \n",
       "4                 False          False                     False   \n",
       "\n",
       "   SERVER_OTHER  SERVER_nginx  WHOIS_COUNTRY_AU  WHOIS_COUNTRY_CA  \\\n",
       "0         False          True             False             False   \n",
       "1         False         False             False             False   \n",
       "2         False         False             False             False   \n",
       "3         False          True             False             False   \n",
       "4          True         False             False             False   \n",
       "\n",
       "   WHOIS_COUNTRY_CN  WHOIS_COUNTRY_ES  WHOIS_COUNTRY_FR  WHOIS_COUNTRY_GB  \\\n",
       "0             False             False             False             False   \n",
       "1             False             False             False             False   \n",
       "2             False             False             False             False   \n",
       "3             False             False             False             False   \n",
       "4             False             False             False             False   \n",
       "\n",
       "   WHOIS_COUNTRY_IN  WHOIS_COUNTRY_JP  WHOIS_COUNTRY_OTHER  WHOIS_COUNTRY_PA  \\\n",
       "0             False             False                 True             False   \n",
       "1             False             False                 True             False   \n",
       "2             False             False                 True             False   \n",
       "3             False             False                False             False   \n",
       "4             False             False                False             False   \n",
       "\n",
       "   WHOIS_COUNTRY_US  \n",
       "0             False  \n",
       "1             False  \n",
       "2             False  \n",
       "3              True  \n",
       "4              True  "
      ]
     },
     "execution_count": 78,
     "metadata": {},
     "output_type": "execute_result"
    }
   ],
   "source": [
    "website_dummy.head()"
   ]
  },
  {
   "cell_type": "markdown",
   "metadata": {},
   "source": [
    "Now, inspect `website_dummy` to make sure the data and types are intended - there shouldn't be any categorical columns at this point."
   ]
  },
  {
   "cell_type": "code",
   "execution_count": 80,
   "metadata": {},
   "outputs": [
    {
     "data": {
      "text/plain": [
       "CHARSET_ISO-8859            bool\n",
       "CHARSET_ISO-8859-1          bool\n",
       "CHARSET_UTF-8               bool\n",
       "CHARSET_iso-8859-1          bool\n",
       "CHARSET_us-ascii            bool\n",
       "CHARSET_utf-8               bool\n",
       "CHARSET_windows-1251        bool\n",
       "CHARSET_windows-1252        bool\n",
       "SERVER_Apache               bool\n",
       "SERVER_Microsoft-HTTPAPI    bool\n",
       "SERVER_OTHER                bool\n",
       "SERVER_nginx                bool\n",
       "WHOIS_COUNTRY_AU            bool\n",
       "WHOIS_COUNTRY_CA            bool\n",
       "WHOIS_COUNTRY_CN            bool\n",
       "WHOIS_COUNTRY_ES            bool\n",
       "WHOIS_COUNTRY_FR            bool\n",
       "WHOIS_COUNTRY_GB            bool\n",
       "WHOIS_COUNTRY_IN            bool\n",
       "WHOIS_COUNTRY_JP            bool\n",
       "WHOIS_COUNTRY_OTHER         bool\n",
       "WHOIS_COUNTRY_PA            bool\n",
       "WHOIS_COUNTRY_US            bool\n",
       "dtype: object"
      ]
     },
     "execution_count": 80,
     "metadata": {},
     "output_type": "execute_result"
    }
   ],
   "source": [
    "# Your code here\n",
    "website_dummy.dtypes\n"
   ]
  },
  {
   "cell_type": "code",
   "execution_count": 81,
   "metadata": {},
   "outputs": [
    {
     "data": {
      "text/plain": [
       "1781"
      ]
     },
     "execution_count": 81,
     "metadata": {},
     "output_type": "execute_result"
    }
   ],
   "source": [
    "len(num.Type)"
   ]
  },
  {
   "cell_type": "code",
   "execution_count": 82,
   "metadata": {},
   "outputs": [
    {
     "data": {
      "text/plain": [
       "1781"
      ]
     },
     "execution_count": 82,
     "metadata": {},
     "output_type": "execute_result"
    }
   ],
   "source": [
    "len(cat)"
   ]
  },
  {
   "cell_type": "code",
   "execution_count": 83,
   "metadata": {},
   "outputs": [],
   "source": [
    "website_dummy[\"Type\"] = num.Type"
   ]
  },
  {
   "cell_type": "code",
   "execution_count": 84,
   "metadata": {},
   "outputs": [
    {
     "data": {
      "text/html": [
       "<div>\n",
       "<style scoped>\n",
       "    .dataframe tbody tr th:only-of-type {\n",
       "        vertical-align: middle;\n",
       "    }\n",
       "\n",
       "    .dataframe tbody tr th {\n",
       "        vertical-align: top;\n",
       "    }\n",
       "\n",
       "    .dataframe thead th {\n",
       "        text-align: right;\n",
       "    }\n",
       "</style>\n",
       "<table border=\"1\" class=\"dataframe\">\n",
       "  <thead>\n",
       "    <tr style=\"text-align: right;\">\n",
       "      <th></th>\n",
       "      <th>CHARSET_ISO-8859</th>\n",
       "      <th>CHARSET_ISO-8859-1</th>\n",
       "      <th>CHARSET_UTF-8</th>\n",
       "      <th>CHARSET_iso-8859-1</th>\n",
       "      <th>CHARSET_us-ascii</th>\n",
       "      <th>CHARSET_utf-8</th>\n",
       "      <th>CHARSET_windows-1251</th>\n",
       "      <th>CHARSET_windows-1252</th>\n",
       "      <th>SERVER_Apache</th>\n",
       "      <th>SERVER_Microsoft-HTTPAPI</th>\n",
       "      <th>SERVER_OTHER</th>\n",
       "      <th>SERVER_nginx</th>\n",
       "      <th>WHOIS_COUNTRY_AU</th>\n",
       "      <th>WHOIS_COUNTRY_CA</th>\n",
       "      <th>WHOIS_COUNTRY_CN</th>\n",
       "      <th>WHOIS_COUNTRY_ES</th>\n",
       "      <th>WHOIS_COUNTRY_FR</th>\n",
       "      <th>WHOIS_COUNTRY_GB</th>\n",
       "      <th>WHOIS_COUNTRY_IN</th>\n",
       "      <th>WHOIS_COUNTRY_JP</th>\n",
       "      <th>WHOIS_COUNTRY_OTHER</th>\n",
       "      <th>WHOIS_COUNTRY_PA</th>\n",
       "      <th>WHOIS_COUNTRY_US</th>\n",
       "      <th>Type</th>\n",
       "    </tr>\n",
       "  </thead>\n",
       "  <tbody>\n",
       "    <tr>\n",
       "      <th>0</th>\n",
       "      <td>False</td>\n",
       "      <td>False</td>\n",
       "      <td>False</td>\n",
       "      <td>True</td>\n",
       "      <td>False</td>\n",
       "      <td>False</td>\n",
       "      <td>False</td>\n",
       "      <td>False</td>\n",
       "      <td>False</td>\n",
       "      <td>False</td>\n",
       "      <td>False</td>\n",
       "      <td>True</td>\n",
       "      <td>False</td>\n",
       "      <td>False</td>\n",
       "      <td>False</td>\n",
       "      <td>False</td>\n",
       "      <td>False</td>\n",
       "      <td>False</td>\n",
       "      <td>False</td>\n",
       "      <td>False</td>\n",
       "      <td>True</td>\n",
       "      <td>False</td>\n",
       "      <td>False</td>\n",
       "      <td>1</td>\n",
       "    </tr>\n",
       "    <tr>\n",
       "      <th>1</th>\n",
       "      <td>False</td>\n",
       "      <td>False</td>\n",
       "      <td>True</td>\n",
       "      <td>False</td>\n",
       "      <td>False</td>\n",
       "      <td>False</td>\n",
       "      <td>False</td>\n",
       "      <td>False</td>\n",
       "      <td>True</td>\n",
       "      <td>False</td>\n",
       "      <td>False</td>\n",
       "      <td>False</td>\n",
       "      <td>False</td>\n",
       "      <td>False</td>\n",
       "      <td>False</td>\n",
       "      <td>False</td>\n",
       "      <td>False</td>\n",
       "      <td>False</td>\n",
       "      <td>False</td>\n",
       "      <td>False</td>\n",
       "      <td>True</td>\n",
       "      <td>False</td>\n",
       "      <td>False</td>\n",
       "      <td>0</td>\n",
       "    </tr>\n",
       "    <tr>\n",
       "      <th>2</th>\n",
       "      <td>False</td>\n",
       "      <td>False</td>\n",
       "      <td>False</td>\n",
       "      <td>False</td>\n",
       "      <td>True</td>\n",
       "      <td>False</td>\n",
       "      <td>False</td>\n",
       "      <td>False</td>\n",
       "      <td>False</td>\n",
       "      <td>True</td>\n",
       "      <td>False</td>\n",
       "      <td>False</td>\n",
       "      <td>False</td>\n",
       "      <td>False</td>\n",
       "      <td>False</td>\n",
       "      <td>False</td>\n",
       "      <td>False</td>\n",
       "      <td>False</td>\n",
       "      <td>False</td>\n",
       "      <td>False</td>\n",
       "      <td>True</td>\n",
       "      <td>False</td>\n",
       "      <td>False</td>\n",
       "      <td>0</td>\n",
       "    </tr>\n",
       "    <tr>\n",
       "      <th>3</th>\n",
       "      <td>False</td>\n",
       "      <td>True</td>\n",
       "      <td>False</td>\n",
       "      <td>False</td>\n",
       "      <td>False</td>\n",
       "      <td>False</td>\n",
       "      <td>False</td>\n",
       "      <td>False</td>\n",
       "      <td>False</td>\n",
       "      <td>False</td>\n",
       "      <td>False</td>\n",
       "      <td>True</td>\n",
       "      <td>False</td>\n",
       "      <td>False</td>\n",
       "      <td>False</td>\n",
       "      <td>False</td>\n",
       "      <td>False</td>\n",
       "      <td>False</td>\n",
       "      <td>False</td>\n",
       "      <td>False</td>\n",
       "      <td>False</td>\n",
       "      <td>False</td>\n",
       "      <td>True</td>\n",
       "      <td>0</td>\n",
       "    </tr>\n",
       "    <tr>\n",
       "      <th>4</th>\n",
       "      <td>False</td>\n",
       "      <td>False</td>\n",
       "      <td>True</td>\n",
       "      <td>False</td>\n",
       "      <td>False</td>\n",
       "      <td>False</td>\n",
       "      <td>False</td>\n",
       "      <td>False</td>\n",
       "      <td>False</td>\n",
       "      <td>False</td>\n",
       "      <td>True</td>\n",
       "      <td>False</td>\n",
       "      <td>False</td>\n",
       "      <td>False</td>\n",
       "      <td>False</td>\n",
       "      <td>False</td>\n",
       "      <td>False</td>\n",
       "      <td>False</td>\n",
       "      <td>False</td>\n",
       "      <td>False</td>\n",
       "      <td>False</td>\n",
       "      <td>False</td>\n",
       "      <td>True</td>\n",
       "      <td>0</td>\n",
       "    </tr>\n",
       "  </tbody>\n",
       "</table>\n",
       "</div>"
      ],
      "text/plain": [
       "   CHARSET_ISO-8859  CHARSET_ISO-8859-1  CHARSET_UTF-8  CHARSET_iso-8859-1  \\\n",
       "0             False               False          False                True   \n",
       "1             False               False           True               False   \n",
       "2             False               False          False               False   \n",
       "3             False                True          False               False   \n",
       "4             False               False           True               False   \n",
       "\n",
       "   CHARSET_us-ascii  CHARSET_utf-8  CHARSET_windows-1251  \\\n",
       "0             False          False                 False   \n",
       "1             False          False                 False   \n",
       "2              True          False                 False   \n",
       "3             False          False                 False   \n",
       "4             False          False                 False   \n",
       "\n",
       "   CHARSET_windows-1252  SERVER_Apache  SERVER_Microsoft-HTTPAPI  \\\n",
       "0                 False          False                     False   \n",
       "1                 False           True                     False   \n",
       "2                 False          False                      True   \n",
       "3                 False          False                     False   \n",
       "4                 False          False                     False   \n",
       "\n",
       "   SERVER_OTHER  SERVER_nginx  WHOIS_COUNTRY_AU  WHOIS_COUNTRY_CA  \\\n",
       "0         False          True             False             False   \n",
       "1         False         False             False             False   \n",
       "2         False         False             False             False   \n",
       "3         False          True             False             False   \n",
       "4          True         False             False             False   \n",
       "\n",
       "   WHOIS_COUNTRY_CN  WHOIS_COUNTRY_ES  WHOIS_COUNTRY_FR  WHOIS_COUNTRY_GB  \\\n",
       "0             False             False             False             False   \n",
       "1             False             False             False             False   \n",
       "2             False             False             False             False   \n",
       "3             False             False             False             False   \n",
       "4             False             False             False             False   \n",
       "\n",
       "   WHOIS_COUNTRY_IN  WHOIS_COUNTRY_JP  WHOIS_COUNTRY_OTHER  WHOIS_COUNTRY_PA  \\\n",
       "0             False             False                 True             False   \n",
       "1             False             False                 True             False   \n",
       "2             False             False                 True             False   \n",
       "3             False             False                False             False   \n",
       "4             False             False                False             False   \n",
       "\n",
       "   WHOIS_COUNTRY_US  Type  \n",
       "0             False     1  \n",
       "1             False     0  \n",
       "2             False     0  \n",
       "3              True     0  \n",
       "4              True     0  "
      ]
     },
     "execution_count": 84,
     "metadata": {},
     "output_type": "execute_result"
    }
   ],
   "source": [
    "website_dummy.head()"
   ]
  },
  {
   "cell_type": "code",
   "execution_count": 85,
   "metadata": {},
   "outputs": [
    {
     "data": {
      "text/plain": [
       "Index(['CHARSET_ISO-8859', 'CHARSET_ISO-8859-1', 'CHARSET_UTF-8',\n",
       "       'CHARSET_iso-8859-1', 'CHARSET_us-ascii', 'CHARSET_utf-8',\n",
       "       'CHARSET_windows-1251', 'CHARSET_windows-1252', 'SERVER_Apache',\n",
       "       'SERVER_Microsoft-HTTPAPI', 'SERVER_OTHER', 'SERVER_nginx',\n",
       "       'WHOIS_COUNTRY_AU', 'WHOIS_COUNTRY_CA', 'WHOIS_COUNTRY_CN',\n",
       "       'WHOIS_COUNTRY_ES', 'WHOIS_COUNTRY_FR', 'WHOIS_COUNTRY_GB',\n",
       "       'WHOIS_COUNTRY_IN', 'WHOIS_COUNTRY_JP', 'WHOIS_COUNTRY_OTHER',\n",
       "       'WHOIS_COUNTRY_PA', 'WHOIS_COUNTRY_US', 'Type'],\n",
       "      dtype='object')"
      ]
     },
     "execution_count": 85,
     "metadata": {},
     "output_type": "execute_result"
    }
   ],
   "source": [
    "website_dummy.columns"
   ]
  },
  {
   "cell_type": "code",
   "execution_count": 86,
   "metadata": {},
   "outputs": [],
   "source": [
    "website_dummy = website_dummy.astype(int)"
   ]
  },
  {
   "cell_type": "code",
   "execution_count": 87,
   "metadata": {},
   "outputs": [
    {
     "data": {
      "text/html": [
       "<div>\n",
       "<style scoped>\n",
       "    .dataframe tbody tr th:only-of-type {\n",
       "        vertical-align: middle;\n",
       "    }\n",
       "\n",
       "    .dataframe tbody tr th {\n",
       "        vertical-align: top;\n",
       "    }\n",
       "\n",
       "    .dataframe thead th {\n",
       "        text-align: right;\n",
       "    }\n",
       "</style>\n",
       "<table border=\"1\" class=\"dataframe\">\n",
       "  <thead>\n",
       "    <tr style=\"text-align: right;\">\n",
       "      <th></th>\n",
       "      <th>CHARSET_ISO-8859</th>\n",
       "      <th>CHARSET_ISO-8859-1</th>\n",
       "      <th>CHARSET_UTF-8</th>\n",
       "      <th>CHARSET_iso-8859-1</th>\n",
       "      <th>CHARSET_us-ascii</th>\n",
       "      <th>CHARSET_utf-8</th>\n",
       "      <th>CHARSET_windows-1251</th>\n",
       "      <th>CHARSET_windows-1252</th>\n",
       "      <th>SERVER_Apache</th>\n",
       "      <th>SERVER_Microsoft-HTTPAPI</th>\n",
       "      <th>SERVER_OTHER</th>\n",
       "      <th>SERVER_nginx</th>\n",
       "      <th>WHOIS_COUNTRY_AU</th>\n",
       "      <th>WHOIS_COUNTRY_CA</th>\n",
       "      <th>WHOIS_COUNTRY_CN</th>\n",
       "      <th>WHOIS_COUNTRY_ES</th>\n",
       "      <th>WHOIS_COUNTRY_FR</th>\n",
       "      <th>WHOIS_COUNTRY_GB</th>\n",
       "      <th>WHOIS_COUNTRY_IN</th>\n",
       "      <th>WHOIS_COUNTRY_JP</th>\n",
       "      <th>WHOIS_COUNTRY_OTHER</th>\n",
       "      <th>WHOIS_COUNTRY_PA</th>\n",
       "      <th>WHOIS_COUNTRY_US</th>\n",
       "      <th>Type</th>\n",
       "    </tr>\n",
       "  </thead>\n",
       "  <tbody>\n",
       "    <tr>\n",
       "      <th>0</th>\n",
       "      <td>0</td>\n",
       "      <td>0</td>\n",
       "      <td>0</td>\n",
       "      <td>1</td>\n",
       "      <td>0</td>\n",
       "      <td>0</td>\n",
       "      <td>0</td>\n",
       "      <td>0</td>\n",
       "      <td>0</td>\n",
       "      <td>0</td>\n",
       "      <td>0</td>\n",
       "      <td>1</td>\n",
       "      <td>0</td>\n",
       "      <td>0</td>\n",
       "      <td>0</td>\n",
       "      <td>0</td>\n",
       "      <td>0</td>\n",
       "      <td>0</td>\n",
       "      <td>0</td>\n",
       "      <td>0</td>\n",
       "      <td>1</td>\n",
       "      <td>0</td>\n",
       "      <td>0</td>\n",
       "      <td>1</td>\n",
       "    </tr>\n",
       "    <tr>\n",
       "      <th>1</th>\n",
       "      <td>0</td>\n",
       "      <td>0</td>\n",
       "      <td>1</td>\n",
       "      <td>0</td>\n",
       "      <td>0</td>\n",
       "      <td>0</td>\n",
       "      <td>0</td>\n",
       "      <td>0</td>\n",
       "      <td>1</td>\n",
       "      <td>0</td>\n",
       "      <td>0</td>\n",
       "      <td>0</td>\n",
       "      <td>0</td>\n",
       "      <td>0</td>\n",
       "      <td>0</td>\n",
       "      <td>0</td>\n",
       "      <td>0</td>\n",
       "      <td>0</td>\n",
       "      <td>0</td>\n",
       "      <td>0</td>\n",
       "      <td>1</td>\n",
       "      <td>0</td>\n",
       "      <td>0</td>\n",
       "      <td>0</td>\n",
       "    </tr>\n",
       "    <tr>\n",
       "      <th>2</th>\n",
       "      <td>0</td>\n",
       "      <td>0</td>\n",
       "      <td>0</td>\n",
       "      <td>0</td>\n",
       "      <td>1</td>\n",
       "      <td>0</td>\n",
       "      <td>0</td>\n",
       "      <td>0</td>\n",
       "      <td>0</td>\n",
       "      <td>1</td>\n",
       "      <td>0</td>\n",
       "      <td>0</td>\n",
       "      <td>0</td>\n",
       "      <td>0</td>\n",
       "      <td>0</td>\n",
       "      <td>0</td>\n",
       "      <td>0</td>\n",
       "      <td>0</td>\n",
       "      <td>0</td>\n",
       "      <td>0</td>\n",
       "      <td>1</td>\n",
       "      <td>0</td>\n",
       "      <td>0</td>\n",
       "      <td>0</td>\n",
       "    </tr>\n",
       "    <tr>\n",
       "      <th>3</th>\n",
       "      <td>0</td>\n",
       "      <td>1</td>\n",
       "      <td>0</td>\n",
       "      <td>0</td>\n",
       "      <td>0</td>\n",
       "      <td>0</td>\n",
       "      <td>0</td>\n",
       "      <td>0</td>\n",
       "      <td>0</td>\n",
       "      <td>0</td>\n",
       "      <td>0</td>\n",
       "      <td>1</td>\n",
       "      <td>0</td>\n",
       "      <td>0</td>\n",
       "      <td>0</td>\n",
       "      <td>0</td>\n",
       "      <td>0</td>\n",
       "      <td>0</td>\n",
       "      <td>0</td>\n",
       "      <td>0</td>\n",
       "      <td>0</td>\n",
       "      <td>0</td>\n",
       "      <td>1</td>\n",
       "      <td>0</td>\n",
       "    </tr>\n",
       "    <tr>\n",
       "      <th>4</th>\n",
       "      <td>0</td>\n",
       "      <td>0</td>\n",
       "      <td>1</td>\n",
       "      <td>0</td>\n",
       "      <td>0</td>\n",
       "      <td>0</td>\n",
       "      <td>0</td>\n",
       "      <td>0</td>\n",
       "      <td>0</td>\n",
       "      <td>0</td>\n",
       "      <td>1</td>\n",
       "      <td>0</td>\n",
       "      <td>0</td>\n",
       "      <td>0</td>\n",
       "      <td>0</td>\n",
       "      <td>0</td>\n",
       "      <td>0</td>\n",
       "      <td>0</td>\n",
       "      <td>0</td>\n",
       "      <td>0</td>\n",
       "      <td>0</td>\n",
       "      <td>0</td>\n",
       "      <td>1</td>\n",
       "      <td>0</td>\n",
       "    </tr>\n",
       "  </tbody>\n",
       "</table>\n",
       "</div>"
      ],
      "text/plain": [
       "   CHARSET_ISO-8859  CHARSET_ISO-8859-1  CHARSET_UTF-8  CHARSET_iso-8859-1  \\\n",
       "0                 0                   0              0                   1   \n",
       "1                 0                   0              1                   0   \n",
       "2                 0                   0              0                   0   \n",
       "3                 0                   1              0                   0   \n",
       "4                 0                   0              1                   0   \n",
       "\n",
       "   CHARSET_us-ascii  CHARSET_utf-8  CHARSET_windows-1251  \\\n",
       "0                 0              0                     0   \n",
       "1                 0              0                     0   \n",
       "2                 1              0                     0   \n",
       "3                 0              0                     0   \n",
       "4                 0              0                     0   \n",
       "\n",
       "   CHARSET_windows-1252  SERVER_Apache  SERVER_Microsoft-HTTPAPI  \\\n",
       "0                     0              0                         0   \n",
       "1                     0              1                         0   \n",
       "2                     0              0                         1   \n",
       "3                     0              0                         0   \n",
       "4                     0              0                         0   \n",
       "\n",
       "   SERVER_OTHER  SERVER_nginx  WHOIS_COUNTRY_AU  WHOIS_COUNTRY_CA  \\\n",
       "0             0             1                 0                 0   \n",
       "1             0             0                 0                 0   \n",
       "2             0             0                 0                 0   \n",
       "3             0             1                 0                 0   \n",
       "4             1             0                 0                 0   \n",
       "\n",
       "   WHOIS_COUNTRY_CN  WHOIS_COUNTRY_ES  WHOIS_COUNTRY_FR  WHOIS_COUNTRY_GB  \\\n",
       "0                 0                 0                 0                 0   \n",
       "1                 0                 0                 0                 0   \n",
       "2                 0                 0                 0                 0   \n",
       "3                 0                 0                 0                 0   \n",
       "4                 0                 0                 0                 0   \n",
       "\n",
       "   WHOIS_COUNTRY_IN  WHOIS_COUNTRY_JP  WHOIS_COUNTRY_OTHER  WHOIS_COUNTRY_PA  \\\n",
       "0                 0                 0                    1                 0   \n",
       "1                 0                 0                    1                 0   \n",
       "2                 0                 0                    1                 0   \n",
       "3                 0                 0                    0                 0   \n",
       "4                 0                 0                    0                 0   \n",
       "\n",
       "   WHOIS_COUNTRY_US  Type  \n",
       "0                 0     1  \n",
       "1                 0     0  \n",
       "2                 0     0  \n",
       "3                 1     0  \n",
       "4                 1     0  "
      ]
     },
     "execution_count": 87,
     "metadata": {},
     "output_type": "execute_result"
    }
   ],
   "source": [
    "website_dummy.head()"
   ]
  },
  {
   "cell_type": "code",
   "execution_count": 88,
   "metadata": {},
   "outputs": [],
   "source": [
    "df_clean.drop(columns = \"Type\", inplace =True)"
   ]
  },
  {
   "cell_type": "code",
   "execution_count": 89,
   "metadata": {},
   "outputs": [
    {
     "data": {
      "text/html": [
       "<div>\n",
       "<style scoped>\n",
       "    .dataframe tbody tr th:only-of-type {\n",
       "        vertical-align: middle;\n",
       "    }\n",
       "\n",
       "    .dataframe tbody tr th {\n",
       "        vertical-align: top;\n",
       "    }\n",
       "\n",
       "    .dataframe thead th {\n",
       "        text-align: right;\n",
       "    }\n",
       "</style>\n",
       "<table border=\"1\" class=\"dataframe\">\n",
       "  <thead>\n",
       "    <tr style=\"text-align: right;\">\n",
       "      <th></th>\n",
       "      <th>URL_LENGTH</th>\n",
       "      <th>NUMBER_SPECIAL_CHARACTERS</th>\n",
       "      <th>DIST_REMOTE_TCP_PORT</th>\n",
       "      <th>REMOTE_IPS</th>\n",
       "      <th>SOURCE_APP_BYTES</th>\n",
       "      <th>REMOTE_APP_BYTES</th>\n",
       "      <th>APP_PACKETS</th>\n",
       "      <th>DNS_QUERY_TIMES</th>\n",
       "    </tr>\n",
       "  </thead>\n",
       "  <tbody>\n",
       "    <tr>\n",
       "      <th>0</th>\n",
       "      <td>16</td>\n",
       "      <td>7</td>\n",
       "      <td>0</td>\n",
       "      <td>2</td>\n",
       "      <td>1153</td>\n",
       "      <td>832</td>\n",
       "      <td>9</td>\n",
       "      <td>2.0</td>\n",
       "    </tr>\n",
       "    <tr>\n",
       "      <th>1</th>\n",
       "      <td>16</td>\n",
       "      <td>6</td>\n",
       "      <td>7</td>\n",
       "      <td>4</td>\n",
       "      <td>1265</td>\n",
       "      <td>1230</td>\n",
       "      <td>17</td>\n",
       "      <td>0.0</td>\n",
       "    </tr>\n",
       "    <tr>\n",
       "      <th>2</th>\n",
       "      <td>16</td>\n",
       "      <td>6</td>\n",
       "      <td>0</td>\n",
       "      <td>0</td>\n",
       "      <td>0</td>\n",
       "      <td>0</td>\n",
       "      <td>0</td>\n",
       "      <td>0.0</td>\n",
       "    </tr>\n",
       "    <tr>\n",
       "      <th>3</th>\n",
       "      <td>17</td>\n",
       "      <td>6</td>\n",
       "      <td>22</td>\n",
       "      <td>3</td>\n",
       "      <td>18784</td>\n",
       "      <td>4380</td>\n",
       "      <td>39</td>\n",
       "      <td>8.0</td>\n",
       "    </tr>\n",
       "    <tr>\n",
       "      <th>4</th>\n",
       "      <td>17</td>\n",
       "      <td>6</td>\n",
       "      <td>2</td>\n",
       "      <td>5</td>\n",
       "      <td>129889</td>\n",
       "      <td>4586</td>\n",
       "      <td>61</td>\n",
       "      <td>4.0</td>\n",
       "    </tr>\n",
       "  </tbody>\n",
       "</table>\n",
       "</div>"
      ],
      "text/plain": [
       "   URL_LENGTH  NUMBER_SPECIAL_CHARACTERS  DIST_REMOTE_TCP_PORT  REMOTE_IPS  \\\n",
       "0          16                          7                     0           2   \n",
       "1          16                          6                     7           4   \n",
       "2          16                          6                     0           0   \n",
       "3          17                          6                    22           3   \n",
       "4          17                          6                     2           5   \n",
       "\n",
       "   SOURCE_APP_BYTES  REMOTE_APP_BYTES  APP_PACKETS  DNS_QUERY_TIMES  \n",
       "0              1153               832            9              2.0  \n",
       "1              1265              1230           17              0.0  \n",
       "2                 0                 0            0              0.0  \n",
       "3             18784              4380           39              8.0  \n",
       "4            129889              4586           61              4.0  "
      ]
     },
     "execution_count": 89,
     "metadata": {},
     "output_type": "execute_result"
    }
   ],
   "source": [
    "df_clean.head()"
   ]
  },
  {
   "cell_type": "code",
   "execution_count": 90,
   "metadata": {},
   "outputs": [],
   "source": [
    "df_clean.reset_index(inplace=True)\n",
    "website_dummy.reset_index(inplace=True)"
   ]
  },
  {
   "cell_type": "code",
   "execution_count": 91,
   "metadata": {},
   "outputs": [
    {
     "data": {
      "text/html": [
       "<div>\n",
       "<style scoped>\n",
       "    .dataframe tbody tr th:only-of-type {\n",
       "        vertical-align: middle;\n",
       "    }\n",
       "\n",
       "    .dataframe tbody tr th {\n",
       "        vertical-align: top;\n",
       "    }\n",
       "\n",
       "    .dataframe thead th {\n",
       "        text-align: right;\n",
       "    }\n",
       "</style>\n",
       "<table border=\"1\" class=\"dataframe\">\n",
       "  <thead>\n",
       "    <tr style=\"text-align: right;\">\n",
       "      <th></th>\n",
       "      <th>index</th>\n",
       "      <th>URL_LENGTH</th>\n",
       "      <th>NUMBER_SPECIAL_CHARACTERS</th>\n",
       "      <th>DIST_REMOTE_TCP_PORT</th>\n",
       "      <th>REMOTE_IPS</th>\n",
       "      <th>SOURCE_APP_BYTES</th>\n",
       "      <th>REMOTE_APP_BYTES</th>\n",
       "      <th>APP_PACKETS</th>\n",
       "      <th>DNS_QUERY_TIMES</th>\n",
       "    </tr>\n",
       "  </thead>\n",
       "  <tbody>\n",
       "    <tr>\n",
       "      <th>0</th>\n",
       "      <td>0</td>\n",
       "      <td>16</td>\n",
       "      <td>7</td>\n",
       "      <td>0</td>\n",
       "      <td>2</td>\n",
       "      <td>1153</td>\n",
       "      <td>832</td>\n",
       "      <td>9</td>\n",
       "      <td>2.0</td>\n",
       "    </tr>\n",
       "    <tr>\n",
       "      <th>1</th>\n",
       "      <td>1</td>\n",
       "      <td>16</td>\n",
       "      <td>6</td>\n",
       "      <td>7</td>\n",
       "      <td>4</td>\n",
       "      <td>1265</td>\n",
       "      <td>1230</td>\n",
       "      <td>17</td>\n",
       "      <td>0.0</td>\n",
       "    </tr>\n",
       "    <tr>\n",
       "      <th>2</th>\n",
       "      <td>2</td>\n",
       "      <td>16</td>\n",
       "      <td>6</td>\n",
       "      <td>0</td>\n",
       "      <td>0</td>\n",
       "      <td>0</td>\n",
       "      <td>0</td>\n",
       "      <td>0</td>\n",
       "      <td>0.0</td>\n",
       "    </tr>\n",
       "    <tr>\n",
       "      <th>3</th>\n",
       "      <td>3</td>\n",
       "      <td>17</td>\n",
       "      <td>6</td>\n",
       "      <td>22</td>\n",
       "      <td>3</td>\n",
       "      <td>18784</td>\n",
       "      <td>4380</td>\n",
       "      <td>39</td>\n",
       "      <td>8.0</td>\n",
       "    </tr>\n",
       "    <tr>\n",
       "      <th>4</th>\n",
       "      <td>4</td>\n",
       "      <td>17</td>\n",
       "      <td>6</td>\n",
       "      <td>2</td>\n",
       "      <td>5</td>\n",
       "      <td>129889</td>\n",
       "      <td>4586</td>\n",
       "      <td>61</td>\n",
       "      <td>4.0</td>\n",
       "    </tr>\n",
       "  </tbody>\n",
       "</table>\n",
       "</div>"
      ],
      "text/plain": [
       "   index  URL_LENGTH  NUMBER_SPECIAL_CHARACTERS  DIST_REMOTE_TCP_PORT  \\\n",
       "0      0          16                          7                     0   \n",
       "1      1          16                          6                     7   \n",
       "2      2          16                          6                     0   \n",
       "3      3          17                          6                    22   \n",
       "4      4          17                          6                     2   \n",
       "\n",
       "   REMOTE_IPS  SOURCE_APP_BYTES  REMOTE_APP_BYTES  APP_PACKETS  \\\n",
       "0           2              1153               832            9   \n",
       "1           4              1265              1230           17   \n",
       "2           0                 0                 0            0   \n",
       "3           3             18784              4380           39   \n",
       "4           5            129889              4586           61   \n",
       "\n",
       "   DNS_QUERY_TIMES  \n",
       "0              2.0  \n",
       "1              0.0  \n",
       "2              0.0  \n",
       "3              8.0  \n",
       "4              4.0  "
      ]
     },
     "execution_count": 91,
     "metadata": {},
     "output_type": "execute_result"
    }
   ],
   "source": [
    "df_clean.head()"
   ]
  },
  {
   "cell_type": "code",
   "execution_count": 92,
   "metadata": {},
   "outputs": [],
   "source": [
    "df_final = df_clean.merge(website_dummy, on = [\"index\"],how=\"inner\")"
   ]
  },
  {
   "cell_type": "code",
   "execution_count": 93,
   "metadata": {},
   "outputs": [
    {
     "data": {
      "text/html": [
       "<div>\n",
       "<style scoped>\n",
       "    .dataframe tbody tr th:only-of-type {\n",
       "        vertical-align: middle;\n",
       "    }\n",
       "\n",
       "    .dataframe tbody tr th {\n",
       "        vertical-align: top;\n",
       "    }\n",
       "\n",
       "    .dataframe thead th {\n",
       "        text-align: right;\n",
       "    }\n",
       "</style>\n",
       "<table border=\"1\" class=\"dataframe\">\n",
       "  <thead>\n",
       "    <tr style=\"text-align: right;\">\n",
       "      <th></th>\n",
       "      <th>index</th>\n",
       "      <th>URL_LENGTH</th>\n",
       "      <th>NUMBER_SPECIAL_CHARACTERS</th>\n",
       "      <th>DIST_REMOTE_TCP_PORT</th>\n",
       "      <th>REMOTE_IPS</th>\n",
       "      <th>SOURCE_APP_BYTES</th>\n",
       "      <th>REMOTE_APP_BYTES</th>\n",
       "      <th>APP_PACKETS</th>\n",
       "      <th>DNS_QUERY_TIMES</th>\n",
       "      <th>CHARSET_ISO-8859</th>\n",
       "      <th>CHARSET_ISO-8859-1</th>\n",
       "      <th>CHARSET_UTF-8</th>\n",
       "      <th>CHARSET_iso-8859-1</th>\n",
       "      <th>CHARSET_us-ascii</th>\n",
       "      <th>CHARSET_utf-8</th>\n",
       "      <th>CHARSET_windows-1251</th>\n",
       "      <th>CHARSET_windows-1252</th>\n",
       "      <th>SERVER_Apache</th>\n",
       "      <th>SERVER_Microsoft-HTTPAPI</th>\n",
       "      <th>SERVER_OTHER</th>\n",
       "      <th>SERVER_nginx</th>\n",
       "      <th>WHOIS_COUNTRY_AU</th>\n",
       "      <th>WHOIS_COUNTRY_CA</th>\n",
       "      <th>WHOIS_COUNTRY_CN</th>\n",
       "      <th>WHOIS_COUNTRY_ES</th>\n",
       "      <th>WHOIS_COUNTRY_FR</th>\n",
       "      <th>WHOIS_COUNTRY_GB</th>\n",
       "      <th>WHOIS_COUNTRY_IN</th>\n",
       "      <th>WHOIS_COUNTRY_JP</th>\n",
       "      <th>WHOIS_COUNTRY_OTHER</th>\n",
       "      <th>WHOIS_COUNTRY_PA</th>\n",
       "      <th>WHOIS_COUNTRY_US</th>\n",
       "      <th>Type</th>\n",
       "    </tr>\n",
       "  </thead>\n",
       "  <tbody>\n",
       "    <tr>\n",
       "      <th>0</th>\n",
       "      <td>0</td>\n",
       "      <td>16</td>\n",
       "      <td>7</td>\n",
       "      <td>0</td>\n",
       "      <td>2</td>\n",
       "      <td>1153</td>\n",
       "      <td>832</td>\n",
       "      <td>9</td>\n",
       "      <td>2.0</td>\n",
       "      <td>0</td>\n",
       "      <td>0</td>\n",
       "      <td>0</td>\n",
       "      <td>1</td>\n",
       "      <td>0</td>\n",
       "      <td>0</td>\n",
       "      <td>0</td>\n",
       "      <td>0</td>\n",
       "      <td>0</td>\n",
       "      <td>0</td>\n",
       "      <td>0</td>\n",
       "      <td>1</td>\n",
       "      <td>0</td>\n",
       "      <td>0</td>\n",
       "      <td>0</td>\n",
       "      <td>0</td>\n",
       "      <td>0</td>\n",
       "      <td>0</td>\n",
       "      <td>0</td>\n",
       "      <td>0</td>\n",
       "      <td>1</td>\n",
       "      <td>0</td>\n",
       "      <td>0</td>\n",
       "      <td>1</td>\n",
       "    </tr>\n",
       "    <tr>\n",
       "      <th>1</th>\n",
       "      <td>1</td>\n",
       "      <td>16</td>\n",
       "      <td>6</td>\n",
       "      <td>7</td>\n",
       "      <td>4</td>\n",
       "      <td>1265</td>\n",
       "      <td>1230</td>\n",
       "      <td>17</td>\n",
       "      <td>0.0</td>\n",
       "      <td>0</td>\n",
       "      <td>0</td>\n",
       "      <td>1</td>\n",
       "      <td>0</td>\n",
       "      <td>0</td>\n",
       "      <td>0</td>\n",
       "      <td>0</td>\n",
       "      <td>0</td>\n",
       "      <td>1</td>\n",
       "      <td>0</td>\n",
       "      <td>0</td>\n",
       "      <td>0</td>\n",
       "      <td>0</td>\n",
       "      <td>0</td>\n",
       "      <td>0</td>\n",
       "      <td>0</td>\n",
       "      <td>0</td>\n",
       "      <td>0</td>\n",
       "      <td>0</td>\n",
       "      <td>0</td>\n",
       "      <td>1</td>\n",
       "      <td>0</td>\n",
       "      <td>0</td>\n",
       "      <td>0</td>\n",
       "    </tr>\n",
       "    <tr>\n",
       "      <th>2</th>\n",
       "      <td>2</td>\n",
       "      <td>16</td>\n",
       "      <td>6</td>\n",
       "      <td>0</td>\n",
       "      <td>0</td>\n",
       "      <td>0</td>\n",
       "      <td>0</td>\n",
       "      <td>0</td>\n",
       "      <td>0.0</td>\n",
       "      <td>0</td>\n",
       "      <td>0</td>\n",
       "      <td>0</td>\n",
       "      <td>0</td>\n",
       "      <td>1</td>\n",
       "      <td>0</td>\n",
       "      <td>0</td>\n",
       "      <td>0</td>\n",
       "      <td>0</td>\n",
       "      <td>1</td>\n",
       "      <td>0</td>\n",
       "      <td>0</td>\n",
       "      <td>0</td>\n",
       "      <td>0</td>\n",
       "      <td>0</td>\n",
       "      <td>0</td>\n",
       "      <td>0</td>\n",
       "      <td>0</td>\n",
       "      <td>0</td>\n",
       "      <td>0</td>\n",
       "      <td>1</td>\n",
       "      <td>0</td>\n",
       "      <td>0</td>\n",
       "      <td>0</td>\n",
       "    </tr>\n",
       "    <tr>\n",
       "      <th>3</th>\n",
       "      <td>3</td>\n",
       "      <td>17</td>\n",
       "      <td>6</td>\n",
       "      <td>22</td>\n",
       "      <td>3</td>\n",
       "      <td>18784</td>\n",
       "      <td>4380</td>\n",
       "      <td>39</td>\n",
       "      <td>8.0</td>\n",
       "      <td>0</td>\n",
       "      <td>1</td>\n",
       "      <td>0</td>\n",
       "      <td>0</td>\n",
       "      <td>0</td>\n",
       "      <td>0</td>\n",
       "      <td>0</td>\n",
       "      <td>0</td>\n",
       "      <td>0</td>\n",
       "      <td>0</td>\n",
       "      <td>0</td>\n",
       "      <td>1</td>\n",
       "      <td>0</td>\n",
       "      <td>0</td>\n",
       "      <td>0</td>\n",
       "      <td>0</td>\n",
       "      <td>0</td>\n",
       "      <td>0</td>\n",
       "      <td>0</td>\n",
       "      <td>0</td>\n",
       "      <td>0</td>\n",
       "      <td>0</td>\n",
       "      <td>1</td>\n",
       "      <td>0</td>\n",
       "    </tr>\n",
       "    <tr>\n",
       "      <th>4</th>\n",
       "      <td>4</td>\n",
       "      <td>17</td>\n",
       "      <td>6</td>\n",
       "      <td>2</td>\n",
       "      <td>5</td>\n",
       "      <td>129889</td>\n",
       "      <td>4586</td>\n",
       "      <td>61</td>\n",
       "      <td>4.0</td>\n",
       "      <td>0</td>\n",
       "      <td>0</td>\n",
       "      <td>1</td>\n",
       "      <td>0</td>\n",
       "      <td>0</td>\n",
       "      <td>0</td>\n",
       "      <td>0</td>\n",
       "      <td>0</td>\n",
       "      <td>0</td>\n",
       "      <td>0</td>\n",
       "      <td>1</td>\n",
       "      <td>0</td>\n",
       "      <td>0</td>\n",
       "      <td>0</td>\n",
       "      <td>0</td>\n",
       "      <td>0</td>\n",
       "      <td>0</td>\n",
       "      <td>0</td>\n",
       "      <td>0</td>\n",
       "      <td>0</td>\n",
       "      <td>0</td>\n",
       "      <td>0</td>\n",
       "      <td>1</td>\n",
       "      <td>0</td>\n",
       "    </tr>\n",
       "  </tbody>\n",
       "</table>\n",
       "</div>"
      ],
      "text/plain": [
       "   index  URL_LENGTH  NUMBER_SPECIAL_CHARACTERS  DIST_REMOTE_TCP_PORT  \\\n",
       "0      0          16                          7                     0   \n",
       "1      1          16                          6                     7   \n",
       "2      2          16                          6                     0   \n",
       "3      3          17                          6                    22   \n",
       "4      4          17                          6                     2   \n",
       "\n",
       "   REMOTE_IPS  SOURCE_APP_BYTES  REMOTE_APP_BYTES  APP_PACKETS  \\\n",
       "0           2              1153               832            9   \n",
       "1           4              1265              1230           17   \n",
       "2           0                 0                 0            0   \n",
       "3           3             18784              4380           39   \n",
       "4           5            129889              4586           61   \n",
       "\n",
       "   DNS_QUERY_TIMES  CHARSET_ISO-8859  CHARSET_ISO-8859-1  CHARSET_UTF-8  \\\n",
       "0              2.0                 0                   0              0   \n",
       "1              0.0                 0                   0              1   \n",
       "2              0.0                 0                   0              0   \n",
       "3              8.0                 0                   1              0   \n",
       "4              4.0                 0                   0              1   \n",
       "\n",
       "   CHARSET_iso-8859-1  CHARSET_us-ascii  CHARSET_utf-8  CHARSET_windows-1251  \\\n",
       "0                   1                 0              0                     0   \n",
       "1                   0                 0              0                     0   \n",
       "2                   0                 1              0                     0   \n",
       "3                   0                 0              0                     0   \n",
       "4                   0                 0              0                     0   \n",
       "\n",
       "   CHARSET_windows-1252  SERVER_Apache  SERVER_Microsoft-HTTPAPI  \\\n",
       "0                     0              0                         0   \n",
       "1                     0              1                         0   \n",
       "2                     0              0                         1   \n",
       "3                     0              0                         0   \n",
       "4                     0              0                         0   \n",
       "\n",
       "   SERVER_OTHER  SERVER_nginx  WHOIS_COUNTRY_AU  WHOIS_COUNTRY_CA  \\\n",
       "0             0             1                 0                 0   \n",
       "1             0             0                 0                 0   \n",
       "2             0             0                 0                 0   \n",
       "3             0             1                 0                 0   \n",
       "4             1             0                 0                 0   \n",
       "\n",
       "   WHOIS_COUNTRY_CN  WHOIS_COUNTRY_ES  WHOIS_COUNTRY_FR  WHOIS_COUNTRY_GB  \\\n",
       "0                 0                 0                 0                 0   \n",
       "1                 0                 0                 0                 0   \n",
       "2                 0                 0                 0                 0   \n",
       "3                 0                 0                 0                 0   \n",
       "4                 0                 0                 0                 0   \n",
       "\n",
       "   WHOIS_COUNTRY_IN  WHOIS_COUNTRY_JP  WHOIS_COUNTRY_OTHER  WHOIS_COUNTRY_PA  \\\n",
       "0                 0                 0                    1                 0   \n",
       "1                 0                 0                    1                 0   \n",
       "2                 0                 0                    1                 0   \n",
       "3                 0                 0                    0                 0   \n",
       "4                 0                 0                    0                 0   \n",
       "\n",
       "   WHOIS_COUNTRY_US  Type  \n",
       "0                 0     1  \n",
       "1                 0     0  \n",
       "2                 0     0  \n",
       "3                 1     0  \n",
       "4                 1     0  "
      ]
     },
     "execution_count": 93,
     "metadata": {},
     "output_type": "execute_result"
    }
   ],
   "source": [
    "df_final.head()"
   ]
  },
  {
   "cell_type": "code",
   "execution_count": 94,
   "metadata": {},
   "outputs": [],
   "source": [
    "df_final.drop(columns = \"index\", inplace =True)"
   ]
  },
  {
   "cell_type": "markdown",
   "metadata": {},
   "source": [
    "# Challenge 6 - Modeling, Prediction, and Evaluation\n",
    "\n",
    "We'll start off this section by splitting the data to train and test. **Name your 4 variables `X_train`, `X_test`, `y_train`, and `y_test`. Select 80% of the data for training and 20% for testing.**"
   ]
  },
  {
   "cell_type": "code",
   "execution_count": 96,
   "metadata": {},
   "outputs": [],
   "source": [
    "from sklearn.model_selection import train_test_split\n",
    "\n",
    "# Your code here:\n",
    "y = df_final[\"Type\"]\n",
    "X = df_final.drop(columns = [\"Type\"]) #pongo corchetes por si quiero mas de una columna \n"
   ]
  },
  {
   "cell_type": "code",
   "execution_count": 97,
   "metadata": {},
   "outputs": [],
   "source": [
    "X_train, X_test, y_train, y_test = train_test_split(X, y, test_size=0.2, random_state=42)"
   ]
  },
  {
   "cell_type": "code",
   "execution_count": 98,
   "metadata": {},
   "outputs": [
    {
     "name": "stdout",
     "output_type": "stream",
     "text": [
      "100% of our data: 1781.\n",
      "80% for training data: 1424.\n",
      "20% for test data: 357.\n"
     ]
    }
   ],
   "source": [
    "print(f'100% of our data: {len(df)}.')\n",
    "print(f'80% for training data: {len(X_train)}.')\n",
    "print(f'20% for test data: {len(X_test)}.')"
   ]
  },
  {
   "cell_type": "markdown",
   "metadata": {},
   "source": [
    "#### In this lab, we will try two different models and compare our results.\n",
    "\n",
    "The first model we will use in this lab is logistic regression. We have previously learned about logistic regression as a classification algorithm. In the cell below, load `LogisticRegression` from scikit-learn and initialize the model."
   ]
  },
  {
   "cell_type": "code",
   "execution_count": 100,
   "metadata": {},
   "outputs": [],
   "source": [
    "# Your code here:\n",
    "model = LogisticRegression()\n"
   ]
  },
  {
   "cell_type": "markdown",
   "metadata": {},
   "source": [
    "Next, fit the model to our training data. We have already separated our data into 4 parts. Use those in your model."
   ]
  },
  {
   "cell_type": "code",
   "execution_count": 102,
   "metadata": {},
   "outputs": [
    {
     "name": "stdout",
     "output_type": "stream",
     "text": [
      "20% for test prediction data: 357.\n"
     ]
    }
   ],
   "source": [
    "# Your code here:\n",
    "model.fit(X_train, y_train)\n",
    "predictions = model.predict(X_test)\n",
    "print(f'20% for test prediction data: {len(predictions)}.')"
   ]
  },
  {
   "cell_type": "code",
   "execution_count": 103,
   "metadata": {},
   "outputs": [
    {
     "name": "stdout",
     "output_type": "stream",
     "text": [
      "              precision    recall  f1-score   support\n",
      "\n",
      "           0       0.89      0.98      0.93       306\n",
      "           1       0.74      0.27      0.40        51\n",
      "\n",
      "    accuracy                           0.88       357\n",
      "   macro avg       0.81      0.63      0.67       357\n",
      "weighted avg       0.87      0.88      0.86       357\n",
      "\n"
     ]
    }
   ],
   "source": [
    "print(classification_report(y_test, predictions))"
   ]
  },
  {
   "cell_type": "code",
   "execution_count": 225,
   "metadata": {},
   "outputs": [
    {
     "name": "stdout",
     "output_type": "stream",
     "text": [
      "Test data accuracy:  0.927170868347339\n",
      "Train data accuracy:  0.9487359550561798\n"
     ]
    }
   ],
   "source": [
    "print(\"Test data accuracy: \",model.score(X_test,y_test))\n",
    "print(\"Train data accuracy: \", model.score(X_train, y_train))"
   ]
  },
  {
   "cell_type": "markdown",
   "metadata": {},
   "source": [
    "finally, import `confusion_matrix` and `accuracy_score` from `sklearn.metrics` and fit our testing data. Assign the fitted data to `y_pred` and print the confusion matrix as well as the accuracy score"
   ]
  },
  {
   "cell_type": "code",
   "execution_count": 105,
   "metadata": {},
   "outputs": [],
   "source": [
    "# Your code here:\n",
    "cm = confusion_matrix(y_test, predictions)\n"
   ]
  },
  {
   "cell_type": "code",
   "execution_count": 203,
   "metadata": {},
   "outputs": [
    {
     "data": {
      "text/plain": [
       "<Figure size 800x600 with 0 Axes>"
      ]
     },
     "metadata": {},
     "output_type": "display_data"
    },
    {
     "data": {
      "image/png": "[encoded data removed]",
      "text/plain": [
       "<Figure size 640x480 with 2 Axes>"
      ]
     },
     "metadata": {},
     "output_type": "display_data"
    }
   ],
   "source": [
    "disp = ConfusionMatrixDisplay(confusion_matrix=cm)\n",
    "plt.figure(figsize=(8, 6))\n",
    "disp.plot(cmap='Oranges')  \n",
    "plt.grid(True)\n",
    "plt.show()"
   ]
  },
  {
   "cell_type": "markdown",
   "metadata": {},
   "source": [
    "What are your thoughts on the performance of the model? Write your conclusions below."
   ]
  },
  {
   "cell_type": "code",
   "execution_count": 107,
   "metadata": {},
   "outputs": [],
   "source": [
    "# Your conclusions here:\n",
    "#we can conclude that the model has an accurency of .88 but the precision for the type 1 is unprecise because we have a .74.\n"
   ]
  },
  {
   "cell_type": "markdown",
   "metadata": {},
   "source": [
    "#### Our second algorithm is is K-Nearest Neighbors. \n",
    "\n",
    "Though is it not required, we will fit a model using the training data and then test the performance of the model using the testing data. Start by loading `KNeighborsClassifier` from scikit-learn and then initializing and fitting the model. We'll start off with a model where k=3."
   ]
  },
  {
   "cell_type": "code",
   "execution_count": 205,
   "metadata": {},
   "outputs": [],
   "source": [
    "# Your code here:\n",
    "from sklearn.neighbors import KNeighborsClassifier\n",
    "\n",
    "model = KNeighborsClassifier(n_neighbors=3)\n",
    "model = model.fit(X_train, y_train)\n",
    "predictions = model.predict(X_test)\n",
    "\n"
   ]
  },
  {
   "cell_type": "code",
   "execution_count": 217,
   "metadata": {},
   "outputs": [
    {
     "name": "stdout",
     "output_type": "stream",
     "text": [
      "              precision    recall  f1-score   support\n",
      "\n",
      "           0       0.94      0.98      0.96       306\n",
      "           1       0.84      0.61      0.70        51\n",
      "\n",
      "    accuracy                           0.93       357\n",
      "   macro avg       0.89      0.79      0.83       357\n",
      "weighted avg       0.92      0.93      0.92       357\n",
      "\n"
     ]
    }
   ],
   "source": [
    "\n",
    "print(classification_report(y_test, predictions))"
   ]
  },
  {
   "cell_type": "markdown",
   "metadata": {},
   "source": [
    "To test your model, compute the predicted values for the testing sample and print the confusion matrix as well as the accuracy score."
   ]
  },
  {
   "cell_type": "code",
   "execution_count": 219,
   "metadata": {},
   "outputs": [
    {
     "data": {
      "text/plain": [
       "<Figure size 800x600 with 0 Axes>"
      ]
     },
     "metadata": {},
     "output_type": "display_data"
    },
    {
     "data": {
      "image/png": "[encoded data removed]",
      "text/plain": [
       "<Figure size 640x480 with 2 Axes>"
      ]
     },
     "metadata": {},
     "output_type": "display_data"
    }
   ],
   "source": [
    "# Your code here:\n",
    "\n",
    "cm = confusion_matrix(y_test, predictions)\n",
    "disp = ConfusionMatrixDisplay(confusion_matrix=cm)\n",
    "plt.figure(figsize=(8, 6))\n",
    "disp.plot(cmap='Oranges')  \n",
    "plt.grid(True)\n",
    "plt.show()\n",
    "\n"
   ]
  },
  {
   "cell_type": "markdown",
   "metadata": {},
   "source": [
    "#### We'll create another K-Nearest Neighbors model with k=5. \n",
    "\n",
    "Initialize and fit the model below and print the confusion matrix and the accuracy score."
   ]
  },
  {
   "cell_type": "code",
   "execution_count": 221,
   "metadata": {
    "scrolled": true
   },
   "outputs": [
    {
     "name": "stdout",
     "output_type": "stream",
     "text": [
      "              precision    recall  f1-score   support\n",
      "\n",
      "           0       0.94      0.98      0.96       306\n",
      "           1       0.84      0.61      0.70        51\n",
      "\n",
      "    accuracy                           0.93       357\n",
      "   macro avg       0.89      0.79      0.83       357\n",
      "weighted avg       0.92      0.93      0.92       357\n",
      "\n"
     ]
    }
   ],
   "source": [
    "# Your code here:\n",
    "\n",
    "model = KNeighborsClassifier(n_neighbors=5)\n",
    "model = model.fit(X_train, y_train)\n",
    "predictions = model.predict(X_test)\n",
    "\n",
    "print(classification_report(y_test, predictions))"
   ]
  },
  {
   "cell_type": "markdown",
   "metadata": {},
   "source": [
    "Did you see an improvement in the confusion matrix when increasing k to 5? Did you see an improvement in the accuracy score? Write your conclusions below."
   ]
  },
  {
   "cell_type": "code",
   "execution_count": 223,
   "metadata": {
    "scrolled": true
   },
   "outputs": [
    {
     "data": {
      "text/plain": [
       "<Figure size 800x600 with 0 Axes>"
      ]
     },
     "metadata": {},
     "output_type": "display_data"
    },
    {
     "data": {
      "image/png": "[encoded data removed]",
      "text/plain": [
       "<Figure size 640x480 with 2 Axes>"
      ]
     },
     "metadata": {},
     "output_type": "display_data"
    }
   ],
   "source": [
    "# Your conclusions here:\n",
    "\n",
    "\n",
    "cm = confusion_matrix(y_test, predictions)\n",
    "disp = ConfusionMatrixDisplay(confusion_matrix=cm)\n",
    "plt.figure(figsize=(8, 6))\n",
    "disp.plot(cmap='Oranges')  \n",
    "plt.grid(True)\n",
    "plt.show()"
   ]
  },
  {
   "cell_type": "code",
   "execution_count": null,
   "metadata": {},
   "outputs": [],
   "source": [
    "#We can conclude that the model improves with the k = 5 therefore we decide to keep this one."
   ]
  }
 ],
 "metadata": {
  "kernelspec": {
   "display_name": "Python 3 (ipykernel)",
   "language": "python",
   "name": "python3"
  },
  "language_info": {
   "codemirror_mode": {
    "name": "ipython",
    "version": 3
   },
   "file_extension": ".py",
   "mimetype": "text/x-python",
   "name": "python",
   "nbconvert_exporter": "python",
   "pygments_lexer": "ipython3",
   "version": "3.12.4"
  }
 },
 "nbformat": 4,
 "nbformat_minor": 4
}
